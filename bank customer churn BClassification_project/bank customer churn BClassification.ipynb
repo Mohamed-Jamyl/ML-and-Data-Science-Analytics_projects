{
 "cells": [
  {
   "cell_type": "markdown",
   "id": "3e9110c1-173a-4378-bffb-182b5a3d2092",
   "metadata": {
    "id": "3e9110c1-173a-4378-bffb-182b5a3d2092"
   },
   "source": [
    "# <center><strong>Bank Customer Churn BClassification</strong></center>\n",
    "--------------------------------\n"
   ]
  },
  {
   "cell_type": "markdown",
   "id": "7b5f87b3",
   "metadata": {
    "id": "7b5f87b3"
   },
   "source": [
    "#### **By Mohamed Jamyl**\n",
    "\n",
    "http://linkedin.com/in/mohamed-jamyl\n",
    "\n",
    "https://www.kaggle.com/mohamedjamyl\n",
    "\n",
    "https://github.com/Mohamed-Jamyl"
   ]
  },
  {
   "cell_type": "markdown",
   "id": "757387ff",
   "metadata": {},
   "source": [
    "-------------------------"
   ]
  },
  {
   "cell_type": "code",
   "execution_count": 129,
   "id": "29e852ae",
   "metadata": {},
   "outputs": [
    {
     "data": {
      "image/jpeg": "[encoded data removed]",
      "text/plain": [
       "<IPython.core.display.Image object>"
      ]
     },
     "execution_count": 129,
     "metadata": {},
     "output_type": "execute_result"
    }
   ],
   "source": [
    "from IPython.display import Image\n",
    "Image(filename='Bank.jpeg')"
   ]
  },
  {
   "cell_type": "markdown",
   "id": "abeea1f0",
   "metadata": {
    "id": "abeea1f0"
   },
   "source": [
    "--------------------------------\n",
    "--------------------------------\n",
    "--------------------------------"
   ]
  },
  {
   "cell_type": "markdown",
   "id": "2f83a9a8",
   "metadata": {
    "id": "2f83a9a8"
   },
   "source": [
    "## **Import Libraries**\n"
   ]
  },
  {
   "cell_type": "code",
   "execution_count": 191,
   "id": "2ad4ba84-037d-4467-b4e4-c18b52f67d41",
   "metadata": {
    "executionInfo": {
     "elapsed": 3,
     "status": "ok",
     "timestamp": 1743303410210,
     "user": {
      "displayName": "Don LaSpezia",
      "userId": "10435712355543281385"
     },
     "user_tz": -120
    },
    "id": "2ad4ba84-037d-4467-b4e4-c18b52f67d41"
   },
   "outputs": [],
   "source": [
    "import pandas as pd\n",
    "import numpy as np\n",
    "from matplotlib import pyplot as plt \n",
    "import seaborn as sns\n",
    "from sklearn.preprocessing import StandardScaler \n",
    "from sklearn.model_selection import train_test_split\n",
    "from sklearn.neighbors import KNeighborsClassifier\n",
    "from sklearn.linear_model import LogisticRegression\n",
    "from sklearn.svm import SVC\n",
    "from sklearn.tree import DecisionTreeClassifier\n",
    "from sklearn.ensemble import RandomForestClassifier\n",
    "from sklearn.naive_bayes import GaussianNB\n",
    "from xgboost import XGBClassifier\n",
    "from lightgbm import LGBMClassifier\n",
    "from sklearn.metrics import classification_report, confusion_matrix\n",
    "from sklearn.metrics import roc_auc_score, roc_curve\n",
    "from pickle import dump\n",
    "from scipy import stats\n",
    "\n",
    "import warnings\n",
    "warnings.filterwarnings(\"ignore\", category=DeprecationWarning)"
   ]
  },
  {
   "cell_type": "markdown",
   "id": "8823146f",
   "metadata": {
    "id": "8823146f"
   },
   "source": [
    "---------------------------------------\n",
    "---------------------------------------\n",
    "---------------------------------------"
   ]
  },
  {
   "cell_type": "markdown",
   "id": "f8dfacfc",
   "metadata": {
    "id": "f8dfacfc"
   },
   "source": [
    "## **Exploratory Data Analysis (EDA)**\n",
    "\n",
    "### **Initial Data Understanding**\n",
    "\n",
    " - **Data loading and Inspection**\n",
    " - **Data Types**\n",
    " - **Missing Values**\n",
    " - **Duplicates**"
   ]
  },
  {
   "cell_type": "markdown",
   "id": "e8ebfd37",
   "metadata": {},
   "source": [
    "-------------------------"
   ]
  },
  {
   "cell_type": "code",
   "execution_count": 131,
   "id": "2a01bdf2-d4b2-44bc-b92a-4e37f9806175",
   "metadata": {
    "executionInfo": {
     "elapsed": 3,
     "status": "ok",
     "timestamp": 1743303410215,
     "user": {
      "displayName": "Don LaSpezia",
      "userId": "10435712355543281385"
     },
     "user_tz": -120
    },
    "id": "2a01bdf2-d4b2-44bc-b92a-4e37f9806175"
   },
   "outputs": [],
   "source": [
    "df = pd.read_csv(\"bank customer churn dataset.csv\")"
   ]
  },
  {
   "cell_type": "code",
   "execution_count": 132,
   "id": "8d7471b9-3c4e-4bbd-a424-0db65c2e434d",
   "metadata": {
    "colab": {
     "base_uri": "https://localhost:8080/",
     "height": 790
    },
    "executionInfo": {
     "elapsed": 132,
     "status": "ok",
     "timestamp": 1743303410350,
     "user": {
      "displayName": "Don LaSpezia",
      "userId": "10435712355543281385"
     },
     "user_tz": -120
    },
    "id": "8d7471b9-3c4e-4bbd-a424-0db65c2e434d",
    "outputId": "e3fad0b4-ec91-45d4-e7e1-eeb79b0b4b00"
   },
   "outputs": [
    {
     "data": {
      "application/vnd.microsoft.datawrangler.viewer.v0+json": {
       "columns": [
        {
         "name": "index",
         "rawType": "int64",
         "type": "integer"
        },
        {
         "name": "RowNumber",
         "rawType": "int64",
         "type": "integer"
        },
        {
         "name": "CustomerId",
         "rawType": "int64",
         "type": "integer"
        },
        {
         "name": "Surname",
         "rawType": "object",
         "type": "string"
        },
        {
         "name": "CreditScore",
         "rawType": "int64",
         "type": "integer"
        },
        {
         "name": "Geography",
         "rawType": "object",
         "type": "string"
        },
        {
         "name": "Gender",
         "rawType": "object",
         "type": "string"
        },
        {
         "name": "Age",
         "rawType": "int64",
         "type": "integer"
        },
        {
         "name": "Tenure",
         "rawType": "int64",
         "type": "integer"
        },
        {
         "name": "Balance",
         "rawType": "float64",
         "type": "float"
        },
        {
         "name": "NumOfProducts",
         "rawType": "int64",
         "type": "integer"
        },
        {
         "name": "HasCrCard",
         "rawType": "int64",
         "type": "integer"
        },
        {
         "name": "IsActiveMember",
         "rawType": "int64",
         "type": "integer"
        },
        {
         "name": "EstimatedSalary",
         "rawType": "float64",
         "type": "float"
        },
        {
         "name": "Exited",
         "rawType": "int64",
         "type": "integer"
        }
       ],
       "ref": "15c80dc2-ce15-401a-86d7-fb7dc3005601",
       "rows": [
        [
         "0",
         "1",
         "15634602",
         "Hargrave",
         "619",
         "France",
         "Female",
         "42",
         "2",
         "0.0",
         "1",
         "1",
         "1",
         "101348.88",
         "1"
        ],
        [
         "1",
         "2",
         "15647311",
         "Hill",
         "608",
         "Spain",
         "Female",
         "41",
         "1",
         "83807.86",
         "1",
         "0",
         "1",
         "112542.58",
         "0"
        ],
        [
         "2",
         "3",
         "15619304",
         "Onio",
         "502",
         "France",
         "Female",
         "42",
         "8",
         "159660.8",
         "3",
         "1",
         "0",
         "113931.57",
         "1"
        ],
        [
         "3",
         "4",
         "15701354",
         "Boni",
         "699",
         "France",
         "Female",
         "39",
         "1",
         "0.0",
         "2",
         "0",
         "0",
         "93826.63",
         "0"
        ],
        [
         "4",
         "5",
         "15737888",
         "Mitchell",
         "850",
         "Spain",
         "Female",
         "43",
         "2",
         "125510.82",
         "1",
         "1",
         "1",
         "79084.1",
         "0"
        ],
        [
         "5",
         "6",
         "15574012",
         "Chu",
         "645",
         "Spain",
         "Male",
         "44",
         "8",
         "113755.78",
         "2",
         "1",
         "0",
         "149756.71",
         "1"
        ],
        [
         "6",
         "7",
         "15592531",
         "Bartlett",
         "822",
         "France",
         "Male",
         "50",
         "7",
         "0.0",
         "2",
         "1",
         "1",
         "10062.8",
         "0"
        ],
        [
         "7",
         "8",
         "15656148",
         "Obinna",
         "376",
         "Germany",
         "Female",
         "29",
         "4",
         "115046.74",
         "4",
         "1",
         "0",
         "119346.88",
         "1"
        ],
        [
         "8",
         "9",
         "15792365",
         "He",
         "501",
         "France",
         "Male",
         "44",
         "4",
         "142051.07",
         "2",
         "0",
         "1",
         "74940.5",
         "0"
        ],
        [
         "9",
         "10",
         "15592389",
         "H?",
         "684",
         "France",
         "Male",
         "27",
         "2",
         "134603.88",
         "1",
         "1",
         "1",
         "71725.73",
         "0"
        ],
        [
         "10",
         "11",
         "15767821",
         "Bearce",
         "528",
         "France",
         "Male",
         "31",
         "6",
         "102016.72",
         "2",
         "0",
         "0",
         "80181.12",
         "0"
        ],
        [
         "11",
         "12",
         "15737173",
         "Andrews",
         "497",
         "Spain",
         "Male",
         "24",
         "3",
         "0.0",
         "2",
         "1",
         "0",
         "76390.01",
         "0"
        ],
        [
         "12",
         "13",
         "15632264",
         "Kay",
         "476",
         "France",
         "Female",
         "34",
         "10",
         "0.0",
         "2",
         "1",
         "0",
         "26260.98",
         "0"
        ],
        [
         "13",
         "14",
         "15691483",
         "Chin",
         "549",
         "France",
         "Female",
         "25",
         "5",
         "0.0",
         "2",
         "0",
         "0",
         "190857.79",
         "0"
        ],
        [
         "14",
         "15",
         "15600882",
         "Scott",
         "635",
         "Spain",
         "Female",
         "35",
         "7",
         "0.0",
         "2",
         "1",
         "1",
         "65951.65",
         "0"
        ],
        [
         "15",
         "16",
         "15643966",
         "Goforth",
         "616",
         "Germany",
         "Male",
         "45",
         "3",
         "143129.41",
         "2",
         "0",
         "1",
         "64327.26",
         "0"
        ],
        [
         "16",
         "17",
         "15737452",
         "Romeo",
         "653",
         "Germany",
         "Male",
         "58",
         "1",
         "132602.88",
         "1",
         "1",
         "0",
         "5097.67",
         "1"
        ],
        [
         "17",
         "18",
         "15788218",
         "Henderson",
         "549",
         "Spain",
         "Female",
         "24",
         "9",
         "0.0",
         "2",
         "1",
         "1",
         "14406.41",
         "0"
        ],
        [
         "18",
         "19",
         "15661507",
         "Muldrow",
         "587",
         "Spain",
         "Male",
         "45",
         "6",
         "0.0",
         "1",
         "0",
         "0",
         "158684.81",
         "0"
        ],
        [
         "19",
         "20",
         "15568982",
         "Hao",
         "726",
         "France",
         "Female",
         "24",
         "6",
         "0.0",
         "2",
         "1",
         "1",
         "54724.03",
         "0"
        ],
        [
         "20",
         "21",
         "15577657",
         "McDonald",
         "732",
         "France",
         "Male",
         "41",
         "8",
         "0.0",
         "2",
         "1",
         "1",
         "170886.17",
         "0"
        ],
        [
         "21",
         "22",
         "15597945",
         "Dellucci",
         "636",
         "Spain",
         "Female",
         "32",
         "8",
         "0.0",
         "2",
         "1",
         "0",
         "138555.46",
         "0"
        ],
        [
         "22",
         "23",
         "15699309",
         "Gerasimov",
         "510",
         "Spain",
         "Female",
         "38",
         "4",
         "0.0",
         "1",
         "1",
         "0",
         "118913.53",
         "1"
        ],
        [
         "23",
         "24",
         "15725737",
         "Mosman",
         "669",
         "France",
         "Male",
         "46",
         "3",
         "0.0",
         "2",
         "0",
         "1",
         "8487.75",
         "0"
        ],
        [
         "24",
         "25",
         "15625047",
         "Yen",
         "846",
         "France",
         "Female",
         "38",
         "5",
         "0.0",
         "1",
         "1",
         "1",
         "187616.16",
         "0"
        ],
        [
         "25",
         "26",
         "15738191",
         "Maclean",
         "577",
         "France",
         "Male",
         "25",
         "3",
         "0.0",
         "2",
         "0",
         "1",
         "124508.29",
         "0"
        ],
        [
         "26",
         "27",
         "15736816",
         "Young",
         "756",
         "Germany",
         "Male",
         "36",
         "2",
         "136815.64",
         "1",
         "1",
         "1",
         "170041.95",
         "0"
        ],
        [
         "27",
         "28",
         "15700772",
         "Nebechi",
         "571",
         "France",
         "Male",
         "44",
         "9",
         "0.0",
         "2",
         "0",
         "0",
         "38433.35",
         "0"
        ],
        [
         "28",
         "29",
         "15728693",
         "McWilliams",
         "574",
         "Germany",
         "Female",
         "43",
         "3",
         "141349.43",
         "1",
         "1",
         "1",
         "100187.43",
         "0"
        ],
        [
         "29",
         "30",
         "15656300",
         "Lucciano",
         "411",
         "France",
         "Male",
         "29",
         "0",
         "59697.17",
         "2",
         "1",
         "1",
         "53483.21",
         "0"
        ],
        [
         "30",
         "31",
         "15589475",
         "Azikiwe",
         "591",
         "Spain",
         "Female",
         "39",
         "3",
         "0.0",
         "3",
         "1",
         "0",
         "140469.38",
         "1"
        ],
        [
         "31",
         "32",
         "15706552",
         "Odinakachukwu",
         "533",
         "France",
         "Male",
         "36",
         "7",
         "85311.7",
         "1",
         "0",
         "1",
         "156731.91",
         "0"
        ],
        [
         "32",
         "33",
         "15750181",
         "Sanderson",
         "553",
         "Germany",
         "Male",
         "41",
         "9",
         "110112.54",
         "2",
         "0",
         "0",
         "81898.81",
         "0"
        ],
        [
         "33",
         "34",
         "15659428",
         "Maggard",
         "520",
         "Spain",
         "Female",
         "42",
         "6",
         "0.0",
         "2",
         "1",
         "1",
         "34410.55",
         "0"
        ],
        [
         "34",
         "35",
         "15732963",
         "Clements",
         "722",
         "Spain",
         "Female",
         "29",
         "9",
         "0.0",
         "2",
         "1",
         "1",
         "142033.07",
         "0"
        ],
        [
         "35",
         "36",
         "15794171",
         "Lombardo",
         "475",
         "France",
         "Female",
         "45",
         "0",
         "134264.04",
         "1",
         "1",
         "0",
         "27822.99",
         "1"
        ],
        [
         "36",
         "37",
         "15788448",
         "Watson",
         "490",
         "Spain",
         "Male",
         "31",
         "3",
         "145260.23",
         "1",
         "0",
         "1",
         "114066.77",
         "0"
        ],
        [
         "37",
         "38",
         "15729599",
         "Lorenzo",
         "804",
         "Spain",
         "Male",
         "33",
         "7",
         "76548.6",
         "1",
         "0",
         "1",
         "98453.45",
         "0"
        ],
        [
         "38",
         "39",
         "15717426",
         "Armstrong",
         "850",
         "France",
         "Male",
         "36",
         "7",
         "0.0",
         "1",
         "1",
         "1",
         "40812.9",
         "0"
        ],
        [
         "39",
         "40",
         "15585768",
         "Cameron",
         "582",
         "Germany",
         "Male",
         "41",
         "6",
         "70349.48",
         "2",
         "0",
         "1",
         "178074.04",
         "0"
        ],
        [
         "40",
         "41",
         "15619360",
         "Hsiao",
         "472",
         "Spain",
         "Male",
         "40",
         "4",
         "0.0",
         "1",
         "1",
         "0",
         "70154.22",
         "0"
        ],
        [
         "41",
         "42",
         "15738148",
         "Clarke",
         "465",
         "France",
         "Female",
         "51",
         "8",
         "122522.32",
         "1",
         "0",
         "0",
         "181297.65",
         "1"
        ],
        [
         "42",
         "43",
         "15687946",
         "Osborne",
         "556",
         "France",
         "Female",
         "61",
         "2",
         "117419.35",
         "1",
         "1",
         "1",
         "94153.83",
         "0"
        ],
        [
         "43",
         "44",
         "15755196",
         "Lavine",
         "834",
         "France",
         "Female",
         "49",
         "2",
         "131394.56",
         "1",
         "0",
         "0",
         "194365.76",
         "1"
        ],
        [
         "44",
         "45",
         "15684171",
         "Bianchi",
         "660",
         "Spain",
         "Female",
         "61",
         "5",
         "155931.11",
         "1",
         "1",
         "1",
         "158338.39",
         "0"
        ],
        [
         "45",
         "46",
         "15754849",
         "Tyler",
         "776",
         "Germany",
         "Female",
         "32",
         "4",
         "109421.13",
         "2",
         "1",
         "1",
         "126517.46",
         "0"
        ],
        [
         "46",
         "47",
         "15602280",
         "Martin",
         "829",
         "Germany",
         "Female",
         "27",
         "9",
         "112045.67",
         "1",
         "1",
         "1",
         "119708.21",
         "1"
        ],
        [
         "47",
         "48",
         "15771573",
         "Okagbue",
         "637",
         "Germany",
         "Female",
         "39",
         "9",
         "137843.8",
         "1",
         "1",
         "1",
         "117622.8",
         "1"
        ],
        [
         "48",
         "49",
         "15766205",
         "Yin",
         "550",
         "Germany",
         "Male",
         "38",
         "2",
         "103391.38",
         "1",
         "0",
         "1",
         "90878.13",
         "0"
        ],
        [
         "49",
         "50",
         "15771873",
         "Buccho",
         "776",
         "Germany",
         "Female",
         "37",
         "2",
         "103769.22",
         "2",
         "1",
         "0",
         "194099.12",
         "0"
        ]
       ],
       "shape": {
        "columns": 14,
        "rows": 10000
       }
      },
      "text/html": [
       "<div>\n",
       "<style scoped>\n",
       "    .dataframe tbody tr th:only-of-type {\n",
       "        vertical-align: middle;\n",
       "    }\n",
       "\n",
       "    .dataframe tbody tr th {\n",
       "        vertical-align: top;\n",
       "    }\n",
       "\n",
       "    .dataframe thead th {\n",
       "        text-align: right;\n",
       "    }\n",
       "</style>\n",
       "<table border=\"1\" class=\"dataframe\">\n",
       "  <thead>\n",
       "    <tr style=\"text-align: right;\">\n",
       "      <th></th>\n",
       "      <th>RowNumber</th>\n",
       "      <th>CustomerId</th>\n",
       "      <th>Surname</th>\n",
       "      <th>CreditScore</th>\n",
       "      <th>Geography</th>\n",
       "      <th>Gender</th>\n",
       "      <th>Age</th>\n",
       "      <th>Tenure</th>\n",
       "      <th>Balance</th>\n",
       "      <th>NumOfProducts</th>\n",
       "      <th>HasCrCard</th>\n",
       "      <th>IsActiveMember</th>\n",
       "      <th>EstimatedSalary</th>\n",
       "      <th>Exited</th>\n",
       "    </tr>\n",
       "  </thead>\n",
       "  <tbody>\n",
       "    <tr>\n",
       "      <th>0</th>\n",
       "      <td>1</td>\n",
       "      <td>15634602</td>\n",
       "      <td>Hargrave</td>\n",
       "      <td>619</td>\n",
       "      <td>France</td>\n",
       "      <td>Female</td>\n",
       "      <td>42</td>\n",
       "      <td>2</td>\n",
       "      <td>0.00</td>\n",
       "      <td>1</td>\n",
       "      <td>1</td>\n",
       "      <td>1</td>\n",
       "      <td>101348.88</td>\n",
       "      <td>1</td>\n",
       "    </tr>\n",
       "    <tr>\n",
       "      <th>1</th>\n",
       "      <td>2</td>\n",
       "      <td>15647311</td>\n",
       "      <td>Hill</td>\n",
       "      <td>608</td>\n",
       "      <td>Spain</td>\n",
       "      <td>Female</td>\n",
       "      <td>41</td>\n",
       "      <td>1</td>\n",
       "      <td>83807.86</td>\n",
       "      <td>1</td>\n",
       "      <td>0</td>\n",
       "      <td>1</td>\n",
       "      <td>112542.58</td>\n",
       "      <td>0</td>\n",
       "    </tr>\n",
       "    <tr>\n",
       "      <th>2</th>\n",
       "      <td>3</td>\n",
       "      <td>15619304</td>\n",
       "      <td>Onio</td>\n",
       "      <td>502</td>\n",
       "      <td>France</td>\n",
       "      <td>Female</td>\n",
       "      <td>42</td>\n",
       "      <td>8</td>\n",
       "      <td>159660.80</td>\n",
       "      <td>3</td>\n",
       "      <td>1</td>\n",
       "      <td>0</td>\n",
       "      <td>113931.57</td>\n",
       "      <td>1</td>\n",
       "    </tr>\n",
       "    <tr>\n",
       "      <th>3</th>\n",
       "      <td>4</td>\n",
       "      <td>15701354</td>\n",
       "      <td>Boni</td>\n",
       "      <td>699</td>\n",
       "      <td>France</td>\n",
       "      <td>Female</td>\n",
       "      <td>39</td>\n",
       "      <td>1</td>\n",
       "      <td>0.00</td>\n",
       "      <td>2</td>\n",
       "      <td>0</td>\n",
       "      <td>0</td>\n",
       "      <td>93826.63</td>\n",
       "      <td>0</td>\n",
       "    </tr>\n",
       "    <tr>\n",
       "      <th>4</th>\n",
       "      <td>5</td>\n",
       "      <td>15737888</td>\n",
       "      <td>Mitchell</td>\n",
       "      <td>850</td>\n",
       "      <td>Spain</td>\n",
       "      <td>Female</td>\n",
       "      <td>43</td>\n",
       "      <td>2</td>\n",
       "      <td>125510.82</td>\n",
       "      <td>1</td>\n",
       "      <td>1</td>\n",
       "      <td>1</td>\n",
       "      <td>79084.10</td>\n",
       "      <td>0</td>\n",
       "    </tr>\n",
       "    <tr>\n",
       "      <th>...</th>\n",
       "      <td>...</td>\n",
       "      <td>...</td>\n",
       "      <td>...</td>\n",
       "      <td>...</td>\n",
       "      <td>...</td>\n",
       "      <td>...</td>\n",
       "      <td>...</td>\n",
       "      <td>...</td>\n",
       "      <td>...</td>\n",
       "      <td>...</td>\n",
       "      <td>...</td>\n",
       "      <td>...</td>\n",
       "      <td>...</td>\n",
       "      <td>...</td>\n",
       "    </tr>\n",
       "    <tr>\n",
       "      <th>9995</th>\n",
       "      <td>9996</td>\n",
       "      <td>15606229</td>\n",
       "      <td>Obijiaku</td>\n",
       "      <td>771</td>\n",
       "      <td>France</td>\n",
       "      <td>Male</td>\n",
       "      <td>39</td>\n",
       "      <td>5</td>\n",
       "      <td>0.00</td>\n",
       "      <td>2</td>\n",
       "      <td>1</td>\n",
       "      <td>0</td>\n",
       "      <td>96270.64</td>\n",
       "      <td>0</td>\n",
       "    </tr>\n",
       "    <tr>\n",
       "      <th>9996</th>\n",
       "      <td>9997</td>\n",
       "      <td>15569892</td>\n",
       "      <td>Johnstone</td>\n",
       "      <td>516</td>\n",
       "      <td>France</td>\n",
       "      <td>Male</td>\n",
       "      <td>35</td>\n",
       "      <td>10</td>\n",
       "      <td>57369.61</td>\n",
       "      <td>1</td>\n",
       "      <td>1</td>\n",
       "      <td>1</td>\n",
       "      <td>101699.77</td>\n",
       "      <td>0</td>\n",
       "    </tr>\n",
       "    <tr>\n",
       "      <th>9997</th>\n",
       "      <td>9998</td>\n",
       "      <td>15584532</td>\n",
       "      <td>Liu</td>\n",
       "      <td>709</td>\n",
       "      <td>France</td>\n",
       "      <td>Female</td>\n",
       "      <td>36</td>\n",
       "      <td>7</td>\n",
       "      <td>0.00</td>\n",
       "      <td>1</td>\n",
       "      <td>0</td>\n",
       "      <td>1</td>\n",
       "      <td>42085.58</td>\n",
       "      <td>1</td>\n",
       "    </tr>\n",
       "    <tr>\n",
       "      <th>9998</th>\n",
       "      <td>9999</td>\n",
       "      <td>15682355</td>\n",
       "      <td>Sabbatini</td>\n",
       "      <td>772</td>\n",
       "      <td>Germany</td>\n",
       "      <td>Male</td>\n",
       "      <td>42</td>\n",
       "      <td>3</td>\n",
       "      <td>75075.31</td>\n",
       "      <td>2</td>\n",
       "      <td>1</td>\n",
       "      <td>0</td>\n",
       "      <td>92888.52</td>\n",
       "      <td>1</td>\n",
       "    </tr>\n",
       "    <tr>\n",
       "      <th>9999</th>\n",
       "      <td>10000</td>\n",
       "      <td>15628319</td>\n",
       "      <td>Walker</td>\n",
       "      <td>792</td>\n",
       "      <td>France</td>\n",
       "      <td>Female</td>\n",
       "      <td>28</td>\n",
       "      <td>4</td>\n",
       "      <td>130142.79</td>\n",
       "      <td>1</td>\n",
       "      <td>1</td>\n",
       "      <td>0</td>\n",
       "      <td>38190.78</td>\n",
       "      <td>0</td>\n",
       "    </tr>\n",
       "  </tbody>\n",
       "</table>\n",
       "<p>10000 rows × 14 columns</p>\n",
       "</div>"
      ],
      "text/plain": [
       "      RowNumber  CustomerId    Surname  CreditScore Geography  Gender  Age  \\\n",
       "0             1    15634602   Hargrave          619    France  Female   42   \n",
       "1             2    15647311       Hill          608     Spain  Female   41   \n",
       "2             3    15619304       Onio          502    France  Female   42   \n",
       "3             4    15701354       Boni          699    France  Female   39   \n",
       "4             5    15737888   Mitchell          850     Spain  Female   43   \n",
       "...         ...         ...        ...          ...       ...     ...  ...   \n",
       "9995       9996    15606229   Obijiaku          771    France    Male   39   \n",
       "9996       9997    15569892  Johnstone          516    France    Male   35   \n",
       "9997       9998    15584532        Liu          709    France  Female   36   \n",
       "9998       9999    15682355  Sabbatini          772   Germany    Male   42   \n",
       "9999      10000    15628319     Walker          792    France  Female   28   \n",
       "\n",
       "      Tenure    Balance  NumOfProducts  HasCrCard  IsActiveMember  \\\n",
       "0          2       0.00              1          1               1   \n",
       "1          1   83807.86              1          0               1   \n",
       "2          8  159660.80              3          1               0   \n",
       "3          1       0.00              2          0               0   \n",
       "4          2  125510.82              1          1               1   \n",
       "...      ...        ...            ...        ...             ...   \n",
       "9995       5       0.00              2          1               0   \n",
       "9996      10   57369.61              1          1               1   \n",
       "9997       7       0.00              1          0               1   \n",
       "9998       3   75075.31              2          1               0   \n",
       "9999       4  130142.79              1          1               0   \n",
       "\n",
       "      EstimatedSalary  Exited  \n",
       "0           101348.88       1  \n",
       "1           112542.58       0  \n",
       "2           113931.57       1  \n",
       "3            93826.63       0  \n",
       "4            79084.10       0  \n",
       "...               ...     ...  \n",
       "9995         96270.64       0  \n",
       "9996        101699.77       0  \n",
       "9997         42085.58       1  \n",
       "9998         92888.52       1  \n",
       "9999         38190.78       0  \n",
       "\n",
       "[10000 rows x 14 columns]"
      ]
     },
     "execution_count": 132,
     "metadata": {},
     "output_type": "execute_result"
    }
   ],
   "source": [
    "df"
   ]
  },
  {
   "cell_type": "code",
   "execution_count": 133,
   "id": "1092e20d-49e7-4dcb-be0a-c8b5b24f8a40",
   "metadata": {
    "colab": {
     "base_uri": "https://localhost:8080/"
    },
    "executionInfo": {
     "elapsed": 126,
     "status": "ok",
     "timestamp": 1743303410352,
     "user": {
      "displayName": "Don LaSpezia",
      "userId": "10435712355543281385"
     },
     "user_tz": -120
    },
    "id": "1092e20d-49e7-4dcb-be0a-c8b5b24f8a40",
    "outputId": "1f8c7108-0b82-4291-9486-778cc1aae5b5"
   },
   "outputs": [
    {
     "data": {
      "text/plain": [
       "(10000, 14)"
      ]
     },
     "execution_count": 133,
     "metadata": {},
     "output_type": "execute_result"
    }
   ],
   "source": [
    "df.shape"
   ]
  },
  {
   "cell_type": "code",
   "execution_count": 134,
   "id": "db36e483-590d-41cc-944b-797bf10d540c",
   "metadata": {
    "colab": {
     "base_uri": "https://localhost:8080/"
    },
    "executionInfo": {
     "elapsed": 21,
     "status": "ok",
     "timestamp": 1743303410353,
     "user": {
      "displayName": "Don LaSpezia",
      "userId": "10435712355543281385"
     },
     "user_tz": -120
    },
    "id": "db36e483-590d-41cc-944b-797bf10d540c",
    "outputId": "82c87494-484b-4848-9b50-d06fb43816f0"
   },
   "outputs": [
    {
     "data": {
      "text/plain": [
       "Index(['RowNumber', 'CustomerId', 'Surname', 'CreditScore', 'Geography',\n",
       "       'Gender', 'Age', 'Tenure', 'Balance', 'NumOfProducts', 'HasCrCard',\n",
       "       'IsActiveMember', 'EstimatedSalary', 'Exited'],\n",
       "      dtype='object')"
      ]
     },
     "execution_count": 134,
     "metadata": {},
     "output_type": "execute_result"
    }
   ],
   "source": [
    "df.columns"
   ]
  },
  {
   "cell_type": "code",
   "execution_count": 135,
   "id": "59ae84cd-a5d0-45e6-a166-b4b0cbce304d",
   "metadata": {
    "colab": {
     "base_uri": "https://localhost:8080/"
    },
    "executionInfo": {
     "elapsed": 22,
     "status": "ok",
     "timestamp": 1743303410369,
     "user": {
      "displayName": "Don LaSpezia",
      "userId": "10435712355543281385"
     },
     "user_tz": -120
    },
    "id": "59ae84cd-a5d0-45e6-a166-b4b0cbce304d",
    "outputId": "750fcf42-1796-448a-cdbb-3e0ab6d649d3"
   },
   "outputs": [
    {
     "name": "stdout",
     "output_type": "stream",
     "text": [
      "<class 'pandas.core.frame.DataFrame'>\n",
      "RangeIndex: 10000 entries, 0 to 9999\n",
      "Data columns (total 14 columns):\n",
      " #   Column           Non-Null Count  Dtype  \n",
      "---  ------           --------------  -----  \n",
      " 0   RowNumber        10000 non-null  int64  \n",
      " 1   CustomerId       10000 non-null  int64  \n",
      " 2   Surname          10000 non-null  object \n",
      " 3   CreditScore      10000 non-null  int64  \n",
      " 4   Geography        10000 non-null  object \n",
      " 5   Gender           10000 non-null  object \n",
      " 6   Age              10000 non-null  int64  \n",
      " 7   Tenure           10000 non-null  int64  \n",
      " 8   Balance          10000 non-null  float64\n",
      " 9   NumOfProducts    10000 non-null  int64  \n",
      " 10  HasCrCard        10000 non-null  int64  \n",
      " 11  IsActiveMember   10000 non-null  int64  \n",
      " 12  EstimatedSalary  10000 non-null  float64\n",
      " 13  Exited           10000 non-null  int64  \n",
      "dtypes: float64(2), int64(9), object(3)\n",
      "memory usage: 1.1+ MB\n"
     ]
    }
   ],
   "source": [
    "df.info()"
   ]
  },
  {
   "cell_type": "code",
   "execution_count": 136,
   "id": "d788b92c-3107-4a5a-8e49-a2d549b9df22",
   "metadata": {
    "colab": {
     "base_uri": "https://localhost:8080/",
     "height": 679
    },
    "executionInfo": {
     "elapsed": 140,
     "status": "ok",
     "timestamp": 1743303410510,
     "user": {
      "displayName": "Don LaSpezia",
      "userId": "10435712355543281385"
     },
     "user_tz": -120
    },
    "id": "d788b92c-3107-4a5a-8e49-a2d549b9df22",
    "outputId": "fc9c165e-b696-4f91-9f65-2792c37cc05a"
   },
   "outputs": [
    {
     "data": {
      "application/vnd.microsoft.datawrangler.viewer.v0+json": {
       "columns": [
        {
         "name": "index",
         "rawType": "object",
         "type": "string"
        },
        {
         "name": "0",
         "rawType": "int64",
         "type": "integer"
        }
       ],
       "ref": "6e88c59d-090c-4ba3-961f-c4cf2e293ad3",
       "rows": [
        [
         "RowNumber",
         "0"
        ],
        [
         "CustomerId",
         "0"
        ],
        [
         "Surname",
         "0"
        ],
        [
         "CreditScore",
         "0"
        ],
        [
         "Geography",
         "0"
        ],
        [
         "Gender",
         "0"
        ],
        [
         "Age",
         "0"
        ],
        [
         "Tenure",
         "0"
        ],
        [
         "Balance",
         "0"
        ],
        [
         "NumOfProducts",
         "0"
        ],
        [
         "HasCrCard",
         "0"
        ],
        [
         "IsActiveMember",
         "0"
        ],
        [
         "EstimatedSalary",
         "0"
        ],
        [
         "Exited",
         "0"
        ]
       ],
       "shape": {
        "columns": 1,
        "rows": 14
       }
      },
      "text/plain": [
       "RowNumber          0\n",
       "CustomerId         0\n",
       "Surname            0\n",
       "CreditScore        0\n",
       "Geography          0\n",
       "Gender             0\n",
       "Age                0\n",
       "Tenure             0\n",
       "Balance            0\n",
       "NumOfProducts      0\n",
       "HasCrCard          0\n",
       "IsActiveMember     0\n",
       "EstimatedSalary    0\n",
       "Exited             0\n",
       "dtype: int64"
      ]
     },
     "execution_count": 136,
     "metadata": {},
     "output_type": "execute_result"
    }
   ],
   "source": [
    "df.isnull().sum()"
   ]
  },
  {
   "cell_type": "code",
   "execution_count": 137,
   "id": "dab2a0e8-6674-46e6-b06d-4517dcd1d744",
   "metadata": {
    "colab": {
     "base_uri": "https://localhost:8080/"
    },
    "executionInfo": {
     "elapsed": 16,
     "status": "ok",
     "timestamp": 1743303410545,
     "user": {
      "displayName": "Don LaSpezia",
      "userId": "10435712355543281385"
     },
     "user_tz": -120
    },
    "id": "dab2a0e8-6674-46e6-b06d-4517dcd1d744",
    "outputId": "0acce7d3-df0c-4631-fdaf-1720d47577d9"
   },
   "outputs": [
    {
     "data": {
      "text/plain": [
       "np.int64(0)"
      ]
     },
     "execution_count": 137,
     "metadata": {},
     "output_type": "execute_result"
    }
   ],
   "source": [
    "df.duplicated().sum()"
   ]
  },
  {
   "cell_type": "markdown",
   "id": "fea85b1b",
   "metadata": {},
   "source": [
    "------------------------\n",
    "------------------------\n",
    "### **Data Cleaning**\n",
    "------------------------"
   ]
  },
  {
   "cell_type": "code",
   "execution_count": 138,
   "id": "780656c6",
   "metadata": {},
   "outputs": [],
   "source": [
    "df.rename(columns={'HasCrCard': 'Has credit card','IsActiveMember':'Is Active Member','CreditScore':'Credit Score',\n",
    "                   'NumOfProducts':'Number Of Products','EstimatedSalary':'Estimated Salary','Exited':'Churned'} ,inplace=True)"
   ]
  },
  {
   "cell_type": "code",
   "execution_count": 139,
   "id": "283ca5d5",
   "metadata": {},
   "outputs": [],
   "source": [
    "df.drop(['RowNumber', 'CustomerId', 'Surname'], inplace=True, axis=1)"
   ]
  },
  {
   "cell_type": "markdown",
   "id": "e6683ae1",
   "metadata": {
    "id": "e6683ae1"
   },
   "source": [
    "-----------------------------------------\n",
    "-----------------------------------------"
   ]
  },
  {
   "cell_type": "markdown",
   "id": "b5d0248f",
   "metadata": {
    "id": "b5d0248f"
   },
   "source": [
    "### **Basic Statistical Overview**\n",
    "-------------------------------------------\n",
    "- Summary Statistical : **describe()**"
   ]
  },
  {
   "cell_type": "code",
   "execution_count": 140,
   "id": "9a6b3183",
   "metadata": {
    "colab": {
     "base_uri": "https://localhost:8080/",
     "height": 320
    },
    "executionInfo": {
     "elapsed": 103,
     "status": "ok",
     "timestamp": 1743303410675,
     "user": {
      "displayName": "Don LaSpezia",
      "userId": "10435712355543281385"
     },
     "user_tz": -120
    },
    "id": "9a6b3183",
    "outputId": "2c89aceb-d1b5-4d49-a2d5-2f0187a4791c"
   },
   "outputs": [
    {
     "data": {
      "application/vnd.microsoft.datawrangler.viewer.v0+json": {
       "columns": [
        {
         "name": "index",
         "rawType": "object",
         "type": "string"
        },
        {
         "name": "count",
         "rawType": "float64",
         "type": "float"
        },
        {
         "name": "mean",
         "rawType": "float64",
         "type": "float"
        },
        {
         "name": "std",
         "rawType": "float64",
         "type": "float"
        },
        {
         "name": "min",
         "rawType": "float64",
         "type": "float"
        },
        {
         "name": "25%",
         "rawType": "float64",
         "type": "float"
        },
        {
         "name": "50%",
         "rawType": "float64",
         "type": "float"
        },
        {
         "name": "75%",
         "rawType": "float64",
         "type": "float"
        },
        {
         "name": "max",
         "rawType": "float64",
         "type": "float"
        }
       ],
       "ref": "97904dfa-b9e7-4904-af17-86f8c76b2c10",
       "rows": [
        [
         "Credit Score",
         "10000.0",
         "650.5288",
         "96.65329873613035",
         "350.0",
         "584.0",
         "652.0",
         "718.0",
         "850.0"
        ],
        [
         "Age",
         "10000.0",
         "38.9218",
         "10.487806451704609",
         "18.0",
         "32.0",
         "37.0",
         "44.0",
         "92.0"
        ],
        [
         "Tenure",
         "10000.0",
         "5.0128",
         "2.8921743770496837",
         "0.0",
         "3.0",
         "5.0",
         "7.0",
         "10.0"
        ],
        [
         "Balance",
         "10000.0",
         "76485.889288",
         "62397.40520238596",
         "0.0",
         "0.0",
         "97198.54000000001",
         "127644.24",
         "250898.09"
        ],
        [
         "Number Of Products",
         "10000.0",
         "1.5302",
         "0.5816543579989906",
         "1.0",
         "1.0",
         "1.0",
         "2.0",
         "4.0"
        ],
        [
         "Has credit card",
         "10000.0",
         "0.7055",
         "0.4558404644751334",
         "0.0",
         "0.0",
         "1.0",
         "1.0",
         "1.0"
        ],
        [
         "Is Active Member",
         "10000.0",
         "0.5151",
         "0.49979692845891893",
         "0.0",
         "0.0",
         "1.0",
         "1.0",
         "1.0"
        ],
        [
         "Estimated Salary",
         "10000.0",
         "100090.239881",
         "57510.49281769816",
         "11.58",
         "51002.11",
         "100193.915",
         "149388.2475",
         "199992.48"
        ],
        [
         "Churned",
         "10000.0",
         "0.2037",
         "0.40276858399486093",
         "0.0",
         "0.0",
         "0.0",
         "0.0",
         "1.0"
        ]
       ],
       "shape": {
        "columns": 8,
        "rows": 9
       }
      },
      "text/html": [
       "<div>\n",
       "<style scoped>\n",
       "    .dataframe tbody tr th:only-of-type {\n",
       "        vertical-align: middle;\n",
       "    }\n",
       "\n",
       "    .dataframe tbody tr th {\n",
       "        vertical-align: top;\n",
       "    }\n",
       "\n",
       "    .dataframe thead th {\n",
       "        text-align: right;\n",
       "    }\n",
       "</style>\n",
       "<table border=\"1\" class=\"dataframe\">\n",
       "  <thead>\n",
       "    <tr style=\"text-align: right;\">\n",
       "      <th></th>\n",
       "      <th>count</th>\n",
       "      <th>mean</th>\n",
       "      <th>std</th>\n",
       "      <th>min</th>\n",
       "      <th>25%</th>\n",
       "      <th>50%</th>\n",
       "      <th>75%</th>\n",
       "      <th>max</th>\n",
       "    </tr>\n",
       "  </thead>\n",
       "  <tbody>\n",
       "    <tr>\n",
       "      <th>Credit Score</th>\n",
       "      <td>10000.0</td>\n",
       "      <td>650.528800</td>\n",
       "      <td>96.653299</td>\n",
       "      <td>350.00</td>\n",
       "      <td>584.00</td>\n",
       "      <td>652.000</td>\n",
       "      <td>718.0000</td>\n",
       "      <td>850.00</td>\n",
       "    </tr>\n",
       "    <tr>\n",
       "      <th>Age</th>\n",
       "      <td>10000.0</td>\n",
       "      <td>38.921800</td>\n",
       "      <td>10.487806</td>\n",
       "      <td>18.00</td>\n",
       "      <td>32.00</td>\n",
       "      <td>37.000</td>\n",
       "      <td>44.0000</td>\n",
       "      <td>92.00</td>\n",
       "    </tr>\n",
       "    <tr>\n",
       "      <th>Tenure</th>\n",
       "      <td>10000.0</td>\n",
       "      <td>5.012800</td>\n",
       "      <td>2.892174</td>\n",
       "      <td>0.00</td>\n",
       "      <td>3.00</td>\n",
       "      <td>5.000</td>\n",
       "      <td>7.0000</td>\n",
       "      <td>10.00</td>\n",
       "    </tr>\n",
       "    <tr>\n",
       "      <th>Balance</th>\n",
       "      <td>10000.0</td>\n",
       "      <td>76485.889288</td>\n",
       "      <td>62397.405202</td>\n",
       "      <td>0.00</td>\n",
       "      <td>0.00</td>\n",
       "      <td>97198.540</td>\n",
       "      <td>127644.2400</td>\n",
       "      <td>250898.09</td>\n",
       "    </tr>\n",
       "    <tr>\n",
       "      <th>Number Of Products</th>\n",
       "      <td>10000.0</td>\n",
       "      <td>1.530200</td>\n",
       "      <td>0.581654</td>\n",
       "      <td>1.00</td>\n",
       "      <td>1.00</td>\n",
       "      <td>1.000</td>\n",
       "      <td>2.0000</td>\n",
       "      <td>4.00</td>\n",
       "    </tr>\n",
       "    <tr>\n",
       "      <th>Has credit card</th>\n",
       "      <td>10000.0</td>\n",
       "      <td>0.705500</td>\n",
       "      <td>0.455840</td>\n",
       "      <td>0.00</td>\n",
       "      <td>0.00</td>\n",
       "      <td>1.000</td>\n",
       "      <td>1.0000</td>\n",
       "      <td>1.00</td>\n",
       "    </tr>\n",
       "    <tr>\n",
       "      <th>Is Active Member</th>\n",
       "      <td>10000.0</td>\n",
       "      <td>0.515100</td>\n",
       "      <td>0.499797</td>\n",
       "      <td>0.00</td>\n",
       "      <td>0.00</td>\n",
       "      <td>1.000</td>\n",
       "      <td>1.0000</td>\n",
       "      <td>1.00</td>\n",
       "    </tr>\n",
       "    <tr>\n",
       "      <th>Estimated Salary</th>\n",
       "      <td>10000.0</td>\n",
       "      <td>100090.239881</td>\n",
       "      <td>57510.492818</td>\n",
       "      <td>11.58</td>\n",
       "      <td>51002.11</td>\n",
       "      <td>100193.915</td>\n",
       "      <td>149388.2475</td>\n",
       "      <td>199992.48</td>\n",
       "    </tr>\n",
       "    <tr>\n",
       "      <th>Churned</th>\n",
       "      <td>10000.0</td>\n",
       "      <td>0.203700</td>\n",
       "      <td>0.402769</td>\n",
       "      <td>0.00</td>\n",
       "      <td>0.00</td>\n",
       "      <td>0.000</td>\n",
       "      <td>0.0000</td>\n",
       "      <td>1.00</td>\n",
       "    </tr>\n",
       "  </tbody>\n",
       "</table>\n",
       "</div>"
      ],
      "text/plain": [
       "                      count           mean           std     min       25%  \\\n",
       "Credit Score        10000.0     650.528800     96.653299  350.00    584.00   \n",
       "Age                 10000.0      38.921800     10.487806   18.00     32.00   \n",
       "Tenure              10000.0       5.012800      2.892174    0.00      3.00   \n",
       "Balance             10000.0   76485.889288  62397.405202    0.00      0.00   \n",
       "Number Of Products  10000.0       1.530200      0.581654    1.00      1.00   \n",
       "Has credit card     10000.0       0.705500      0.455840    0.00      0.00   \n",
       "Is Active Member    10000.0       0.515100      0.499797    0.00      0.00   \n",
       "Estimated Salary    10000.0  100090.239881  57510.492818   11.58  51002.11   \n",
       "Churned             10000.0       0.203700      0.402769    0.00      0.00   \n",
       "\n",
       "                           50%          75%        max  \n",
       "Credit Score           652.000     718.0000     850.00  \n",
       "Age                     37.000      44.0000      92.00  \n",
       "Tenure                   5.000       7.0000      10.00  \n",
       "Balance              97198.540  127644.2400  250898.09  \n",
       "Number Of Products       1.000       2.0000       4.00  \n",
       "Has credit card          1.000       1.0000       1.00  \n",
       "Is Active Member         1.000       1.0000       1.00  \n",
       "Estimated Salary    100193.915  149388.2475  199992.48  \n",
       "Churned                  0.000       0.0000       1.00  "
      ]
     },
     "execution_count": 140,
     "metadata": {},
     "output_type": "execute_result"
    }
   ],
   "source": [
    "df.describe().T"
   ]
  },
  {
   "cell_type": "markdown",
   "id": "62791523",
   "metadata": {
    "id": "62791523"
   },
   "source": [
    "--------------------------------"
   ]
  },
  {
   "cell_type": "markdown",
   "id": "5ad006e9",
   "metadata": {
    "id": "5ad006e9"
   },
   "source": [
    "- Summary Statistical : **value_counts()**\n",
    "----------------------"
   ]
  },
  {
   "cell_type": "code",
   "execution_count": 141,
   "id": "543e7077",
   "metadata": {
    "colab": {
     "base_uri": "https://localhost:8080/",
     "height": 406
    },
    "executionInfo": {
     "elapsed": 55,
     "status": "ok",
     "timestamp": 1743303412596,
     "user": {
      "displayName": "Don LaSpezia",
      "userId": "10435712355543281385"
     },
     "user_tz": -120
    },
    "id": "543e7077",
    "outputId": "23f56b35-25da-413c-e3c8-03ac246e9384"
   },
   "outputs": [
    {
     "data": {
      "image/png": "[encoded data removed]",
      "text/plain": [
       "<Figure size 640x480 with 1 Axes>"
      ]
     },
     "metadata": {},
     "output_type": "display_data"
    }
   ],
   "source": [
    "df['Number Of Products'].value_counts().plot.pie(autopct='%0.2f%%')\n",
    "plt.show()"
   ]
  },
  {
   "cell_type": "markdown",
   "id": "3540a8f6",
   "metadata": {},
   "source": [
    "-----------------------------------"
   ]
  },
  {
   "cell_type": "code",
   "execution_count": 142,
   "id": "07a30d73",
   "metadata": {},
   "outputs": [
    {
     "name": "stderr",
     "output_type": "stream",
     "text": [
      "C:\\Users\\RPC\\AppData\\Local\\Temp\\ipykernel_13732\\1213901015.py:1: FutureWarning: \n",
      "\n",
      "Passing `palette` without assigning `hue` is deprecated and will be removed in v0.14.0. Assign the `x` variable to `hue` and set `legend=False` for the same effect.\n",
      "\n",
      "  sns.countplot(x='Geography', data=df, palette=['green','blue','yellow'])\n"
     ]
    },
    {
     "data": {
      "image/png": "[encoded data removed]",
      "text/plain": [
       "<Figure size 640x480 with 1 Axes>"
      ]
     },
     "metadata": {},
     "output_type": "display_data"
    }
   ],
   "source": [
    "sns.countplot(x='Geography', data=df, palette=['green','blue','yellow'])\n",
    "plt.show()"
   ]
  },
  {
   "cell_type": "markdown",
   "id": "6c77cc06",
   "metadata": {},
   "source": [
    "-----------------------------------"
   ]
  },
  {
   "cell_type": "code",
   "execution_count": 143,
   "id": "c64707e1",
   "metadata": {},
   "outputs": [
    {
     "name": "stderr",
     "output_type": "stream",
     "text": [
      "C:\\Users\\RPC\\AppData\\Local\\Temp\\ipykernel_13732\\457633866.py:1: FutureWarning: \n",
      "\n",
      "Passing `palette` without assigning `hue` is deprecated and will be removed in v0.14.0. Assign the `x` variable to `hue` and set `legend=False` for the same effect.\n",
      "\n",
      "  sns.countplot(x='Has credit card', data=df, palette=['green','blue'])\n"
     ]
    },
    {
     "data": {
      "image/png": "[encoded data removed]",
      "text/plain": [
       "<Figure size 640x480 with 1 Axes>"
      ]
     },
     "metadata": {},
     "output_type": "display_data"
    }
   ],
   "source": [
    "sns.countplot(x='Has credit card', data=df, palette=['green','blue'])    \n",
    "plt.show()"
   ]
  },
  {
   "cell_type": "markdown",
   "id": "78bd9a2f",
   "metadata": {},
   "source": [
    "-----------------------------------"
   ]
  },
  {
   "cell_type": "code",
   "execution_count": 144,
   "id": "ab84fc25",
   "metadata": {},
   "outputs": [
    {
     "name": "stderr",
     "output_type": "stream",
     "text": [
      "C:\\Users\\RPC\\AppData\\Local\\Temp\\ipykernel_13732\\2796008230.py:1: FutureWarning: \n",
      "\n",
      "Passing `palette` without assigning `hue` is deprecated and will be removed in v0.14.0. Assign the `x` variable to `hue` and set `legend=False` for the same effect.\n",
      "\n",
      "  sns.countplot(x='Is Active Member', data=df, palette=['orange','yellow'])\n"
     ]
    },
    {
     "data": {
      "image/png": "[encoded data removed]",
      "text/plain": [
       "<Figure size 640x480 with 1 Axes>"
      ]
     },
     "metadata": {},
     "output_type": "display_data"
    }
   ],
   "source": [
    "sns.countplot(x='Is Active Member', data=df, palette=['orange','yellow'])\n",
    "plt.show()"
   ]
  },
  {
   "cell_type": "markdown",
   "id": "2c5a35bc",
   "metadata": {},
   "source": [
    "-----------------------------------"
   ]
  },
  {
   "cell_type": "code",
   "execution_count": 145,
   "id": "8e2796d8",
   "metadata": {},
   "outputs": [
    {
     "name": "stderr",
     "output_type": "stream",
     "text": [
      "C:\\Users\\RPC\\AppData\\Local\\Temp\\ipykernel_13732\\3427317816.py:1: FutureWarning: \n",
      "\n",
      "Passing `palette` without assigning `hue` is deprecated and will be removed in v0.14.0. Assign the `x` variable to `hue` and set `legend=False` for the same effect.\n",
      "\n",
      "  sns.countplot(x='Gender', data=df, palette=['pink','blue'])\n"
     ]
    },
    {
     "data": {
      "image/png": "[encoded data removed]",
      "text/plain": [
       "<Figure size 640x480 with 1 Axes>"
      ]
     },
     "metadata": {},
     "output_type": "display_data"
    }
   ],
   "source": [
    "sns.countplot(x='Gender', data=df, palette=['pink','blue'])\n",
    "plt.show()"
   ]
  },
  {
   "cell_type": "markdown",
   "id": "a0fda7b3",
   "metadata": {},
   "source": [
    "-----------------------------------"
   ]
  },
  {
   "cell_type": "code",
   "execution_count": 146,
   "id": "d1d53c82",
   "metadata": {},
   "outputs": [
    {
     "name": "stderr",
     "output_type": "stream",
     "text": [
      "C:\\Users\\RPC\\AppData\\Local\\Temp\\ipykernel_13732\\1772317120.py:1: FutureWarning: \n",
      "\n",
      "Passing `palette` without assigning `hue` is deprecated and will be removed in v0.14.0. Assign the `x` variable to `hue` and set `legend=False` for the same effect.\n",
      "\n",
      "  sns.countplot(x='Churned', data=df, palette=['green','red'])\n"
     ]
    },
    {
     "data": {
      "image/png": "[encoded data removed]",
      "text/plain": [
       "<Figure size 640x480 with 1 Axes>"
      ]
     },
     "metadata": {},
     "output_type": "display_data"
    }
   ],
   "source": [
    "sns.countplot(x='Churned', data=df, palette=['green','red'])\n",
    "plt.show()"
   ]
  },
  {
   "cell_type": "markdown",
   "id": "2e83a7bb",
   "metadata": {
    "id": "2e83a7bb"
   },
   "source": [
    "---------------------------------------\n",
    "---------------------------------------"
   ]
  },
  {
   "cell_type": "markdown",
   "id": "60a0f804",
   "metadata": {
    "id": "60a0f804"
   },
   "source": [
    "### **Distribution of Variables**\n",
    "--------------------------\n",
    "- **Numerical Features (KDE)**"
   ]
  },
  {
   "cell_type": "code",
   "execution_count": 147,
   "id": "e4612b7e",
   "metadata": {
    "colab": {
     "base_uri": "https://localhost:8080/",
     "height": 1000
    },
    "executionInfo": {
     "elapsed": 16159,
     "status": "ok",
     "timestamp": 1743303429847,
     "user": {
      "displayName": "Don LaSpezia",
      "userId": "10435712355543281385"
     },
     "user_tz": -120
    },
    "id": "e4612b7e",
    "outputId": "1da5ae8b-ed20-428d-98b1-2637c65b11b4"
   },
   "outputs": [
    {
     "data": {
      "image/png": "[encoded data removed]",
      "text/plain": [
       "<Figure size 1400x400 with 1 Axes>"
      ]
     },
     "metadata": {},
     "output_type": "display_data"
    }
   ],
   "source": [
    "plt.figure(figsize=(14,\t4))\n",
    "sns.kdeplot(df['Balance'], fill=True,\tcolor='red', alpha=0.6)\n",
    "plt.title('Kernel Density Estimate(KDE) - Balance',\tfontsize=16)\n",
    "plt.xlabel('Balance', fontsize=12)\n",
    "plt.ylabel('Density', fontsize=12)\n",
    "plt.grid(True, linestyle='--', alpha=0.7)\n",
    "plt.show()"
   ]
  },
  {
   "cell_type": "markdown",
   "id": "a0439f46",
   "metadata": {},
   "source": [
    "- ##### **First Peak:** The first and smaller peak is located at a balance of approximately 0. This suggests a high density of individuals with little to no balance.\n",
    "\n",
    "- ##### **Second Peak:** The second and larger peak is centered around a balance of roughly 120,000. This indicates another significant group of individuals with balances clustering around this higher value.\n",
    "--------------------------"
   ]
  },
  {
   "cell_type": "code",
   "execution_count": 148,
   "id": "33050402",
   "metadata": {},
   "outputs": [
    {
     "data": {
      "image/png": "[encoded data removed]",
      "text/plain": [
       "<Figure size 1400x400 with 1 Axes>"
      ]
     },
     "metadata": {},
     "output_type": "display_data"
    }
   ],
   "source": [
    "plt.figure(figsize=(14,\t4))\n",
    "sns.kdeplot(df['Age'], fill=True,\tcolor='red', alpha=0.6)\n",
    "plt.title('Kernel Density Estimate(KDE) - Age',\tfontsize=16)\n",
    "plt.xlabel('Age', fontsize=12)\n",
    "plt.ylabel('Density', fontsize=12)\n",
    "plt.grid(True, linestyle='--', alpha=0.7)\n",
    "plt.show()"
   ]
  },
  {
   "cell_type": "markdown",
   "id": "67f1eb20",
   "metadata": {},
   "source": [
    "- ##### **The plot reveals a positively skewed distribution (also known as right-skewed). This means the tail of the distribution extends to the right, indicating that while most of the data points are clustered on the left side, there's a smaller number of individuals at older ages.**\n",
    "\n",
    "- ##### **The distribution has a single peak, or mode, which is the most frequent age range. The highest density of individuals is found around the age of 40. The density decreases sharply after the peak, with a long, gradual decline towards the older ages, extending to nearly 100. The density of individuals at younger ages (below 20) is very low.**\n",
    "-----------------------------------"
   ]
  },
  {
   "cell_type": "markdown",
   "id": "c2d8a2d9",
   "metadata": {
    "id": "c2d8a2d9"
   },
   "source": [
    "### **Checking Correlation between the features**"
   ]
  },
  {
   "cell_type": "code",
   "execution_count": 149,
   "id": "b7d5d064",
   "metadata": {
    "colab": {
     "base_uri": "https://localhost:8080/",
     "height": 514
    },
    "executionInfo": {
     "elapsed": 1985,
     "status": "ok",
     "timestamp": 1743303434679,
     "user": {
      "displayName": "Don LaSpezia",
      "userId": "10435712355543281385"
     },
     "user_tz": -120
    },
    "id": "b7d5d064",
    "outputId": "ac267742-f6a9-4941-cdfc-e75f0a800fd5"
   },
   "outputs": [
    {
     "data": {
      "image/png": "[encoded data removed]",
      "text/plain": [
       "<Figure size 1400x700 with 2 Axes>"
      ]
     },
     "metadata": {},
     "output_type": "display_data"
    }
   ],
   "source": [
    "plt.figure(figsize=(14,\t7))\n",
    "sns.heatmap(df.select_dtypes(include='number').corr(), annot=True)\n",
    "plt.show()"
   ]
  },
  {
   "cell_type": "markdown",
   "id": "4cf744f3",
   "metadata": {},
   "source": [
    "- ##### There is a **normal positive correlation (0.3)** between **Age** and **Exited** \n",
    "- ##### There is a **normal negative correlation (-0.3)** between **Balance** and **Number Of Products** \n"
   ]
  },
  {
   "cell_type": "markdown",
   "id": "8df6507f",
   "metadata": {
    "id": "8df6507f"
   },
   "source": [
    "------------------------------------------\n",
    "------------------------------------------"
   ]
  },
  {
   "cell_type": "markdown",
   "id": "dbd7501c",
   "metadata": {
    "id": "dbd7501c"
   },
   "source": [
    "## **Feature Extraction**"
   ]
  },
  {
   "cell_type": "markdown",
   "id": "02d51400",
   "metadata": {
    "id": "02d51400"
   },
   "source": [
    "-----------------------------"
   ]
  },
  {
   "cell_type": "code",
   "execution_count": 150,
   "id": "89341649",
   "metadata": {},
   "outputs": [],
   "source": [
    "def ageGroup(age):\n",
    "    age = int(age)\n",
    "    if age <= 40:\n",
    "        return 'Young Adults'\n",
    "    elif age > 40 and age < 60:\n",
    "        return 'Middle-aged Adults'\n",
    "    else :\n",
    "        return 'Old Adults'\n",
    "    \n",
    "df['Age group'] = df['Age'].apply(lambda x : ageGroup(x))"
   ]
  },
  {
   "cell_type": "code",
   "execution_count": 151,
   "id": "83f86d99",
   "metadata": {},
   "outputs": [
    {
     "data": {
      "application/vnd.microsoft.datawrangler.viewer.v0+json": {
       "columns": [
        {
         "name": "Age group",
         "rawType": "object",
         "type": "string"
        },
        {
         "name": "count",
         "rawType": "int64",
         "type": "integer"
        }
       ],
       "ref": "7c2ba570-0d99-416f-8bb7-9862871d54b1",
       "rows": [
        [
         "Young Adults",
         "6419"
        ],
        [
         "Middle-aged Adults",
         "3055"
        ],
        [
         "Old Adults",
         "526"
        ]
       ],
       "shape": {
        "columns": 1,
        "rows": 3
       }
      },
      "text/plain": [
       "Age group\n",
       "Young Adults          6419\n",
       "Middle-aged Adults    3055\n",
       "Old Adults             526\n",
       "Name: count, dtype: int64"
      ]
     },
     "execution_count": 151,
     "metadata": {},
     "output_type": "execute_result"
    }
   ],
   "source": [
    "df['Age group'].value_counts()"
   ]
  },
  {
   "cell_type": "markdown",
   "id": "961552df",
   "metadata": {},
   "source": [
    "----------------------------------"
   ]
  },
  {
   "cell_type": "code",
   "execution_count": 152,
   "id": "507103c8",
   "metadata": {},
   "outputs": [],
   "source": [
    "def balanceGroup(balance):\n",
    "    balance = float(balance)\n",
    "    if balance > 0:\n",
    "        return 'Funded account'\n",
    "    elif balance == 0:\n",
    "        return 'Empty account'\n",
    "    else:\n",
    "        return 'Overdrawn account'\n",
    "\n",
    "df['Balance category'] = df['Balance'].apply(lambda x : balanceGroup(x))"
   ]
  },
  {
   "cell_type": "code",
   "execution_count": 153,
   "id": "f7977f87",
   "metadata": {},
   "outputs": [
    {
     "data": {
      "application/vnd.microsoft.datawrangler.viewer.v0+json": {
       "columns": [
        {
         "name": "Balance category",
         "rawType": "object",
         "type": "string"
        },
        {
         "name": "count",
         "rawType": "int64",
         "type": "integer"
        }
       ],
       "ref": "781c3b4f-ca15-41a6-9d0c-dd44fae7aa44",
       "rows": [
        [
         "Funded account",
         "6383"
        ],
        [
         "Empty account",
         "3617"
        ]
       ],
       "shape": {
        "columns": 1,
        "rows": 2
       }
      },
      "text/plain": [
       "Balance category\n",
       "Funded account    6383\n",
       "Empty account     3617\n",
       "Name: count, dtype: int64"
      ]
     },
     "execution_count": 153,
     "metadata": {},
     "output_type": "execute_result"
    }
   ],
   "source": [
    "df['Balance category'].value_counts()"
   ]
  },
  {
   "cell_type": "markdown",
   "id": "e8aa14c6",
   "metadata": {},
   "source": [
    "-----------------------------"
   ]
  },
  {
   "cell_type": "code",
   "execution_count": 154,
   "id": "94f42569",
   "metadata": {},
   "outputs": [],
   "source": [
    "def activeGroup(actAcc):\n",
    "    actAcc = int(actAcc)\n",
    "    if actAcc == 1:\n",
    "        return 'Active account'\n",
    "    else:\n",
    "        return 'Dormant account'\n",
    "\n",
    "df['Is Active Member'] = df['Is Active Member'].apply(lambda x : activeGroup(x))"
   ]
  },
  {
   "cell_type": "code",
   "execution_count": 155,
   "id": "7dcf9c6c",
   "metadata": {},
   "outputs": [
    {
     "data": {
      "application/vnd.microsoft.datawrangler.viewer.v0+json": {
       "columns": [
        {
         "name": "Is Active Member",
         "rawType": "object",
         "type": "string"
        },
        {
         "name": "count",
         "rawType": "int64",
         "type": "integer"
        }
       ],
       "ref": "8e5d3c57-11b1-4602-bd8b-ce2afef172d9",
       "rows": [
        [
         "Active account",
         "5151"
        ],
        [
         "Dormant account",
         "4849"
        ]
       ],
       "shape": {
        "columns": 1,
        "rows": 2
       }
      },
      "text/plain": [
       "Is Active Member\n",
       "Active account     5151\n",
       "Dormant account    4849\n",
       "Name: count, dtype: int64"
      ]
     },
     "execution_count": 155,
     "metadata": {},
     "output_type": "execute_result"
    }
   ],
   "source": [
    "df['Is Active Member'].value_counts()"
   ]
  },
  {
   "cell_type": "markdown",
   "id": "525b2b36",
   "metadata": {},
   "source": [
    "------------------------------------"
   ]
  },
  {
   "cell_type": "code",
   "execution_count": 156,
   "id": "ba04201b",
   "metadata": {},
   "outputs": [],
   "source": [
    "def cardGroup(card):\n",
    "    card = int(card)\n",
    "    if card == 1:\n",
    "        return 'Has a card'\n",
    "    else:\n",
    "        return 'No'\n",
    "\n",
    "df['Has credit card'] = df['Has credit card'].apply(lambda x : cardGroup(x))"
   ]
  },
  {
   "cell_type": "code",
   "execution_count": 157,
   "id": "d4df227a",
   "metadata": {},
   "outputs": [
    {
     "data": {
      "application/vnd.microsoft.datawrangler.viewer.v0+json": {
       "columns": [
        {
         "name": "Has credit card",
         "rawType": "object",
         "type": "string"
        },
        {
         "name": "count",
         "rawType": "int64",
         "type": "integer"
        }
       ],
       "ref": "0ab4fa3d-21fa-4b99-bcb5-6d1fb3893b8b",
       "rows": [
        [
         "Has a card",
         "7055"
        ],
        [
         "No",
         "2945"
        ]
       ],
       "shape": {
        "columns": 1,
        "rows": 2
       }
      },
      "text/plain": [
       "Has credit card\n",
       "Has a card    7055\n",
       "No            2945\n",
       "Name: count, dtype: int64"
      ]
     },
     "execution_count": 157,
     "metadata": {},
     "output_type": "execute_result"
    }
   ],
   "source": [
    "df['Has credit card'].value_counts()"
   ]
  },
  {
   "cell_type": "markdown",
   "id": "1a6e3d78",
   "metadata": {},
   "source": [
    "--------------------------------"
   ]
  },
  {
   "cell_type": "code",
   "execution_count": 158,
   "id": "bc351308",
   "metadata": {},
   "outputs": [],
   "source": [
    "def categorize_credit(score):\n",
    "    if score < 580:\n",
    "        return 'Poor'\n",
    "    elif score < 670:\n",
    "        return 'Fair'\n",
    "    elif score < 740:\n",
    "        return 'Good'\n",
    "    elif score < 800:\n",
    "        return 'Very Good'\n",
    "    else:\n",
    "        return 'Excellent'\n",
    "\n",
    "df['Credit Score Category'] = df['Credit Score'].apply(categorize_credit)"
   ]
  },
  {
   "cell_type": "code",
   "execution_count": 159,
   "id": "11f000ae",
   "metadata": {},
   "outputs": [
    {
     "data": {
      "application/vnd.microsoft.datawrangler.viewer.v0+json": {
       "columns": [
        {
         "name": "Credit Score Category",
         "rawType": "object",
         "type": "string"
        },
        {
         "name": "count",
         "rawType": "int64",
         "type": "integer"
        }
       ],
       "ref": "025cfe0d-b7b4-49ae-a84a-b024d23961cc",
       "rows": [
        [
         "Fair",
         "3331"
        ],
        [
         "Good",
         "2428"
        ],
        [
         "Poor",
         "2362"
        ],
        [
         "Very Good",
         "1224"
        ],
        [
         "Excellent",
         "655"
        ]
       ],
       "shape": {
        "columns": 1,
        "rows": 5
       }
      },
      "text/plain": [
       "Credit Score Category\n",
       "Fair         3331\n",
       "Good         2428\n",
       "Poor         2362\n",
       "Very Good    1224\n",
       "Excellent     655\n",
       "Name: count, dtype: int64"
      ]
     },
     "execution_count": 159,
     "metadata": {},
     "output_type": "execute_result"
    }
   ],
   "source": [
    "df['Credit Score Category'].value_counts()"
   ]
  },
  {
   "cell_type": "markdown",
   "id": "f62fa8fe",
   "metadata": {},
   "source": [
    "-----------------------"
   ]
  },
  {
   "cell_type": "code",
   "execution_count": 160,
   "id": "6e90a9ab",
   "metadata": {},
   "outputs": [],
   "source": [
    "def Churned(exit):\n",
    "    exit = int(exit)\n",
    "    if exit == 1:\n",
    "        return 'Exited'\n",
    "    else:\n",
    "        return 'Stayed'\n",
    "\n",
    "df['Churned'] = df['Churned'].apply(lambda x : Churned(x))"
   ]
  },
  {
   "cell_type": "code",
   "execution_count": 161,
   "id": "752b16b7",
   "metadata": {},
   "outputs": [
    {
     "data": {
      "application/vnd.microsoft.datawrangler.viewer.v0+json": {
       "columns": [
        {
         "name": "Churned",
         "rawType": "object",
         "type": "string"
        },
        {
         "name": "count",
         "rawType": "int64",
         "type": "integer"
        }
       ],
       "ref": "19f5902f-948a-43f7-9164-525eebf93a81",
       "rows": [
        [
         "Stayed",
         "7963"
        ],
        [
         "Exited",
         "2037"
        ]
       ],
       "shape": {
        "columns": 1,
        "rows": 2
       }
      },
      "text/plain": [
       "Churned\n",
       "Stayed    7963\n",
       "Exited    2037\n",
       "Name: count, dtype: int64"
      ]
     },
     "execution_count": 161,
     "metadata": {},
     "output_type": "execute_result"
    }
   ],
   "source": [
    "df['Churned'].value_counts()"
   ]
  },
  {
   "cell_type": "markdown",
   "id": "3645a8df",
   "metadata": {},
   "source": [
    "-----------------------"
   ]
  },
  {
   "cell_type": "code",
   "execution_count": 162,
   "id": "cca2a3b4",
   "metadata": {},
   "outputs": [],
   "source": [
    "def categorize_Estimated_Salary(Salary):\n",
    "    if Salary < 50000:\n",
    "        return 'Low Salary'\n",
    "    elif Salary < 100000:\n",
    "        return 'Medium Salary'\n",
    "    elif Salary < 150000:\n",
    "        return 'High Salary'\n",
    "    else:\n",
    "        return 'Very High Salary'\n",
    "\n",
    "df['Estimated Salary Category'] = df['Estimated Salary'].apply(categorize_Estimated_Salary)"
   ]
  },
  {
   "cell_type": "code",
   "execution_count": 163,
   "id": "bf3591cf",
   "metadata": {},
   "outputs": [
    {
     "data": {
      "application/vnd.microsoft.datawrangler.viewer.v0+json": {
       "columns": [
        {
         "name": "Estimated Salary Category",
         "rawType": "object",
         "type": "string"
        },
        {
         "name": "count",
         "rawType": "int64",
         "type": "integer"
        }
       ],
       "ref": "a9c18c6a-0cd3-41cf-a00b-040ea695a10f",
       "rows": [
        [
         "High Salary",
         "2555"
        ],
        [
         "Medium Salary",
         "2537"
        ],
        [
         "Very High Salary",
         "2455"
        ],
        [
         "Low Salary",
         "2453"
        ]
       ],
       "shape": {
        "columns": 1,
        "rows": 4
       }
      },
      "text/plain": [
       "Estimated Salary Category\n",
       "High Salary         2555\n",
       "Medium Salary       2537\n",
       "Very High Salary    2455\n",
       "Low Salary          2453\n",
       "Name: count, dtype: int64"
      ]
     },
     "execution_count": 163,
     "metadata": {},
     "output_type": "execute_result"
    }
   ],
   "source": [
    "df['Estimated Salary Category'].value_counts()"
   ]
  },
  {
   "cell_type": "markdown",
   "id": "7391225f",
   "metadata": {},
   "source": [
    "------------------------------------"
   ]
  },
  {
   "cell_type": "code",
   "execution_count": 164,
   "id": "34aedd7e",
   "metadata": {},
   "outputs": [],
   "source": [
    "df['BalanceSalaryRatio'] = df['Balance'] / df['Estimated Salary']"
   ]
  },
  {
   "cell_type": "code",
   "execution_count": 165,
   "id": "2face525",
   "metadata": {},
   "outputs": [
    {
     "data": {
      "application/vnd.microsoft.datawrangler.viewer.v0+json": {
       "columns": [
        {
         "name": "index",
         "rawType": "int64",
         "type": "integer"
        },
        {
         "name": "Balance",
         "rawType": "float64",
         "type": "float"
        },
        {
         "name": "Estimated Salary",
         "rawType": "float64",
         "type": "float"
        },
        {
         "name": "BalanceSalaryRatio",
         "rawType": "float64",
         "type": "float"
        }
       ],
       "ref": "d83463f3-c4b6-4461-a78e-a52e3e432478",
       "rows": [
        [
         "0",
         "0.0",
         "101348.88",
         "0.0"
        ],
        [
         "1",
         "83807.86",
         "112542.58",
         "0.7446769036217226"
        ],
        [
         "2",
         "159660.8",
         "113931.57",
         "1.4013745268322026"
        ],
        [
         "3",
         "0.0",
         "93826.63",
         "0.0"
        ],
        [
         "4",
         "125510.82",
         "79084.1",
         "1.5870550464631954"
        ]
       ],
       "shape": {
        "columns": 3,
        "rows": 5
       }
      },
      "text/html": [
       "<div>\n",
       "<style scoped>\n",
       "    .dataframe tbody tr th:only-of-type {\n",
       "        vertical-align: middle;\n",
       "    }\n",
       "\n",
       "    .dataframe tbody tr th {\n",
       "        vertical-align: top;\n",
       "    }\n",
       "\n",
       "    .dataframe thead th {\n",
       "        text-align: right;\n",
       "    }\n",
       "</style>\n",
       "<table border=\"1\" class=\"dataframe\">\n",
       "  <thead>\n",
       "    <tr style=\"text-align: right;\">\n",
       "      <th></th>\n",
       "      <th>Balance</th>\n",
       "      <th>Estimated Salary</th>\n",
       "      <th>BalanceSalaryRatio</th>\n",
       "    </tr>\n",
       "  </thead>\n",
       "  <tbody>\n",
       "    <tr>\n",
       "      <th>0</th>\n",
       "      <td>0.00</td>\n",
       "      <td>101348.88</td>\n",
       "      <td>0.000000</td>\n",
       "    </tr>\n",
       "    <tr>\n",
       "      <th>1</th>\n",
       "      <td>83807.86</td>\n",
       "      <td>112542.58</td>\n",
       "      <td>0.744677</td>\n",
       "    </tr>\n",
       "    <tr>\n",
       "      <th>2</th>\n",
       "      <td>159660.80</td>\n",
       "      <td>113931.57</td>\n",
       "      <td>1.401375</td>\n",
       "    </tr>\n",
       "    <tr>\n",
       "      <th>3</th>\n",
       "      <td>0.00</td>\n",
       "      <td>93826.63</td>\n",
       "      <td>0.000000</td>\n",
       "    </tr>\n",
       "    <tr>\n",
       "      <th>4</th>\n",
       "      <td>125510.82</td>\n",
       "      <td>79084.10</td>\n",
       "      <td>1.587055</td>\n",
       "    </tr>\n",
       "  </tbody>\n",
       "</table>\n",
       "</div>"
      ],
      "text/plain": [
       "     Balance  Estimated Salary  BalanceSalaryRatio\n",
       "0       0.00         101348.88            0.000000\n",
       "1   83807.86         112542.58            0.744677\n",
       "2  159660.80         113931.57            1.401375\n",
       "3       0.00          93826.63            0.000000\n",
       "4  125510.82          79084.10            1.587055"
      ]
     },
     "execution_count": 165,
     "metadata": {},
     "output_type": "execute_result"
    }
   ],
   "source": [
    "df[['Balance', 'Estimated Salary', 'BalanceSalaryRatio']].head()"
   ]
  },
  {
   "cell_type": "code",
   "execution_count": 166,
   "id": "a1d97c55",
   "metadata": {
    "executionInfo": {
     "elapsed": 3,
     "status": "ok",
     "timestamp": 1743303482850,
     "user": {
      "displayName": "Don LaSpezia",
      "userId": "10435712355543281385"
     },
     "user_tz": -120
    },
    "id": "a1d97c55"
   },
   "outputs": [],
   "source": [
    "#df.to_excel('bank customer churn new dataset.xlsx',index=False)"
   ]
  },
  {
   "cell_type": "markdown",
   "id": "6f00f677",
   "metadata": {
    "id": "6f00f677"
   },
   "source": [
    "----------------------------\n",
    "----------------------------\n"
   ]
  },
  {
   "cell_type": "markdown",
   "id": "0d483832",
   "metadata": {
    "id": "0d483832"
   },
   "source": [
    "## **Transform data**"
   ]
  },
  {
   "cell_type": "markdown",
   "id": "68e2ee11",
   "metadata": {},
   "source": [
    "------------------------------"
   ]
  },
  {
   "cell_type": "code",
   "execution_count": 167,
   "id": "302c182f",
   "metadata": {},
   "outputs": [
    {
     "data": {
      "text/plain": [
       "Index(['Credit Score', 'Geography', 'Gender', 'Age', 'Tenure', 'Balance',\n",
       "       'Number Of Products', 'Has credit card', 'Is Active Member',\n",
       "       'Estimated Salary', 'Churned', 'Age group', 'Balance category',\n",
       "       'Credit Score Category', 'Estimated Salary Category',\n",
       "       'BalanceSalaryRatio'],\n",
       "      dtype='object')"
      ]
     },
     "execution_count": 167,
     "metadata": {},
     "output_type": "execute_result"
    }
   ],
   "source": [
    "df.columns"
   ]
  },
  {
   "cell_type": "code",
   "execution_count": 168,
   "id": "202c0818",
   "metadata": {
    "colab": {
     "base_uri": "https://localhost:8080/"
    },
    "executionInfo": {
     "elapsed": 101,
     "status": "ok",
     "timestamp": 1743303487191,
     "user": {
      "displayName": "Don LaSpezia",
      "userId": "10435712355543281385"
     },
     "user_tz": -120
    },
    "id": "202c0818",
    "outputId": "46a9e6f9-8b95-4e55-a7a8-86ccaef75c5b"
   },
   "outputs": [
    {
     "name": "stdout",
     "output_type": "stream",
     "text": [
      "<class 'pandas.core.frame.DataFrame'>\n",
      "RangeIndex: 10000 entries, 0 to 9999\n",
      "Data columns (total 9 columns):\n",
      " #   Column                     Non-Null Count  Dtype \n",
      "---  ------                     --------------  ----- \n",
      " 0   Geography                  10000 non-null  object\n",
      " 1   Gender                     10000 non-null  object\n",
      " 2   Has credit card            10000 non-null  object\n",
      " 3   Is Active Member           10000 non-null  object\n",
      " 4   Churned                    10000 non-null  object\n",
      " 5   Age group                  10000 non-null  object\n",
      " 6   Balance category           10000 non-null  object\n",
      " 7   Credit Score Category      10000 non-null  object\n",
      " 8   Estimated Salary Category  10000 non-null  object\n",
      "dtypes: object(9)\n",
      "memory usage: 703.3+ KB\n"
     ]
    }
   ],
   "source": [
    "df.select_dtypes('object').info()"
   ]
  },
  {
   "cell_type": "code",
   "execution_count": 169,
   "id": "5cf1c5f5",
   "metadata": {},
   "outputs": [],
   "source": [
    "df['Geography'] = df['Geography'].map({'France': 0, 'Germany': 1, 'Spain':2})\n",
    "df['Gender'] = df['Gender'].map({'Female': 0, 'Male': 1})\n",
    "df['Has credit card'] = df['Has credit card'].map({'No': 0, 'Has a card': 1})\n",
    "df['Is Active Member'] = df['Is Active Member'].map({'Dormant account': 0, 'Active account': 1})\n",
    "df['Churned'] = df['Churned'].map({'Stayed': 0, 'Exited': 1})\n",
    "df['Age group'] = df['Age group'].map({'Young Adults': 0, 'Middle-aged Adults': 1,'Old Adults': 2})\n",
    "df['Balance category'] = df['Balance category'].map({'Empty account': 0, 'Funded account': 1})\n",
    "df['Credit Score Category'] = df['Credit Score Category'].map({'Poor': 0, 'Fair': 1,'Good' : 2,'Very Good':3,'Excellent':4})\n",
    "df['Estimated Salary Category'] = df['Estimated Salary Category'].map({'Low Salary': 0, 'Medium Salary': 1,'High Salary' : 2,'Very High Salary':3})"
   ]
  },
  {
   "cell_type": "code",
   "execution_count": 170,
   "id": "c99b3ecd",
   "metadata": {
    "colab": {
     "base_uri": "https://localhost:8080/",
     "height": 261
    },
    "executionInfo": {
     "elapsed": 18,
     "status": "ok",
     "timestamp": 1743303487311,
     "user": {
      "displayName": "Don LaSpezia",
      "userId": "10435712355543281385"
     },
     "user_tz": -120
    },
    "id": "c99b3ecd",
    "outputId": "b90376d7-3fc4-4f82-8ec4-5458949bf2c8"
   },
   "outputs": [
    {
     "data": {
      "application/vnd.microsoft.datawrangler.viewer.v0+json": {
       "columns": [
        {
         "name": "index",
         "rawType": "int64",
         "type": "integer"
        },
        {
         "name": "Credit Score",
         "rawType": "int64",
         "type": "integer"
        },
        {
         "name": "Geography",
         "rawType": "int64",
         "type": "integer"
        },
        {
         "name": "Gender",
         "rawType": "int64",
         "type": "integer"
        },
        {
         "name": "Age",
         "rawType": "int64",
         "type": "integer"
        },
        {
         "name": "Tenure",
         "rawType": "int64",
         "type": "integer"
        },
        {
         "name": "Balance",
         "rawType": "float64",
         "type": "float"
        },
        {
         "name": "Number Of Products",
         "rawType": "int64",
         "type": "integer"
        },
        {
         "name": "Has credit card",
         "rawType": "int64",
         "type": "integer"
        },
        {
         "name": "Is Active Member",
         "rawType": "int64",
         "type": "integer"
        },
        {
         "name": "Estimated Salary",
         "rawType": "float64",
         "type": "float"
        },
        {
         "name": "Churned",
         "rawType": "int64",
         "type": "integer"
        },
        {
         "name": "Age group",
         "rawType": "int64",
         "type": "integer"
        },
        {
         "name": "Balance category",
         "rawType": "int64",
         "type": "integer"
        },
        {
         "name": "Credit Score Category",
         "rawType": "int64",
         "type": "integer"
        },
        {
         "name": "Estimated Salary Category",
         "rawType": "int64",
         "type": "integer"
        },
        {
         "name": "BalanceSalaryRatio",
         "rawType": "float64",
         "type": "float"
        }
       ],
       "ref": "7175c1de-732f-4bc4-9616-509fc37d0ad8",
       "rows": [
        [
         "0",
         "619",
         "0",
         "0",
         "42",
         "2",
         "0.0",
         "1",
         "1",
         "1",
         "101348.88",
         "1",
         "1",
         "0",
         "1",
         "2",
         "0.0"
        ],
        [
         "1",
         "608",
         "2",
         "0",
         "41",
         "1",
         "83807.86",
         "1",
         "0",
         "1",
         "112542.58",
         "0",
         "1",
         "1",
         "1",
         "2",
         "0.7446769036217226"
        ],
        [
         "2",
         "502",
         "0",
         "0",
         "42",
         "8",
         "159660.8",
         "3",
         "1",
         "0",
         "113931.57",
         "1",
         "1",
         "1",
         "0",
         "2",
         "1.4013745268322026"
        ],
        [
         "3",
         "699",
         "0",
         "0",
         "39",
         "1",
         "0.0",
         "2",
         "0",
         "0",
         "93826.63",
         "0",
         "0",
         "0",
         "2",
         "1",
         "0.0"
        ],
        [
         "4",
         "850",
         "2",
         "0",
         "43",
         "2",
         "125510.82",
         "1",
         "1",
         "1",
         "79084.1",
         "0",
         "1",
         "1",
         "4",
         "1",
         "1.5870550464631954"
        ]
       ],
       "shape": {
        "columns": 16,
        "rows": 5
       }
      },
      "text/html": [
       "<div>\n",
       "<style scoped>\n",
       "    .dataframe tbody tr th:only-of-type {\n",
       "        vertical-align: middle;\n",
       "    }\n",
       "\n",
       "    .dataframe tbody tr th {\n",
       "        vertical-align: top;\n",
       "    }\n",
       "\n",
       "    .dataframe thead th {\n",
       "        text-align: right;\n",
       "    }\n",
       "</style>\n",
       "<table border=\"1\" class=\"dataframe\">\n",
       "  <thead>\n",
       "    <tr style=\"text-align: right;\">\n",
       "      <th></th>\n",
       "      <th>Credit Score</th>\n",
       "      <th>Geography</th>\n",
       "      <th>Gender</th>\n",
       "      <th>Age</th>\n",
       "      <th>Tenure</th>\n",
       "      <th>Balance</th>\n",
       "      <th>Number Of Products</th>\n",
       "      <th>Has credit card</th>\n",
       "      <th>Is Active Member</th>\n",
       "      <th>Estimated Salary</th>\n",
       "      <th>Churned</th>\n",
       "      <th>Age group</th>\n",
       "      <th>Balance category</th>\n",
       "      <th>Credit Score Category</th>\n",
       "      <th>Estimated Salary Category</th>\n",
       "      <th>BalanceSalaryRatio</th>\n",
       "    </tr>\n",
       "  </thead>\n",
       "  <tbody>\n",
       "    <tr>\n",
       "      <th>0</th>\n",
       "      <td>619</td>\n",
       "      <td>0</td>\n",
       "      <td>0</td>\n",
       "      <td>42</td>\n",
       "      <td>2</td>\n",
       "      <td>0.00</td>\n",
       "      <td>1</td>\n",
       "      <td>1</td>\n",
       "      <td>1</td>\n",
       "      <td>101348.88</td>\n",
       "      <td>1</td>\n",
       "      <td>1</td>\n",
       "      <td>0</td>\n",
       "      <td>1</td>\n",
       "      <td>2</td>\n",
       "      <td>0.000000</td>\n",
       "    </tr>\n",
       "    <tr>\n",
       "      <th>1</th>\n",
       "      <td>608</td>\n",
       "      <td>2</td>\n",
       "      <td>0</td>\n",
       "      <td>41</td>\n",
       "      <td>1</td>\n",
       "      <td>83807.86</td>\n",
       "      <td>1</td>\n",
       "      <td>0</td>\n",
       "      <td>1</td>\n",
       "      <td>112542.58</td>\n",
       "      <td>0</td>\n",
       "      <td>1</td>\n",
       "      <td>1</td>\n",
       "      <td>1</td>\n",
       "      <td>2</td>\n",
       "      <td>0.744677</td>\n",
       "    </tr>\n",
       "    <tr>\n",
       "      <th>2</th>\n",
       "      <td>502</td>\n",
       "      <td>0</td>\n",
       "      <td>0</td>\n",
       "      <td>42</td>\n",
       "      <td>8</td>\n",
       "      <td>159660.80</td>\n",
       "      <td>3</td>\n",
       "      <td>1</td>\n",
       "      <td>0</td>\n",
       "      <td>113931.57</td>\n",
       "      <td>1</td>\n",
       "      <td>1</td>\n",
       "      <td>1</td>\n",
       "      <td>0</td>\n",
       "      <td>2</td>\n",
       "      <td>1.401375</td>\n",
       "    </tr>\n",
       "    <tr>\n",
       "      <th>3</th>\n",
       "      <td>699</td>\n",
       "      <td>0</td>\n",
       "      <td>0</td>\n",
       "      <td>39</td>\n",
       "      <td>1</td>\n",
       "      <td>0.00</td>\n",
       "      <td>2</td>\n",
       "      <td>0</td>\n",
       "      <td>0</td>\n",
       "      <td>93826.63</td>\n",
       "      <td>0</td>\n",
       "      <td>0</td>\n",
       "      <td>0</td>\n",
       "      <td>2</td>\n",
       "      <td>1</td>\n",
       "      <td>0.000000</td>\n",
       "    </tr>\n",
       "    <tr>\n",
       "      <th>4</th>\n",
       "      <td>850</td>\n",
       "      <td>2</td>\n",
       "      <td>0</td>\n",
       "      <td>43</td>\n",
       "      <td>2</td>\n",
       "      <td>125510.82</td>\n",
       "      <td>1</td>\n",
       "      <td>1</td>\n",
       "      <td>1</td>\n",
       "      <td>79084.10</td>\n",
       "      <td>0</td>\n",
       "      <td>1</td>\n",
       "      <td>1</td>\n",
       "      <td>4</td>\n",
       "      <td>1</td>\n",
       "      <td>1.587055</td>\n",
       "    </tr>\n",
       "  </tbody>\n",
       "</table>\n",
       "</div>"
      ],
      "text/plain": [
       "   Credit Score  Geography  Gender  Age  Tenure    Balance  \\\n",
       "0           619          0       0   42       2       0.00   \n",
       "1           608          2       0   41       1   83807.86   \n",
       "2           502          0       0   42       8  159660.80   \n",
       "3           699          0       0   39       1       0.00   \n",
       "4           850          2       0   43       2  125510.82   \n",
       "\n",
       "   Number Of Products  Has credit card  Is Active Member  Estimated Salary  \\\n",
       "0                   1                1                 1         101348.88   \n",
       "1                   1                0                 1         112542.58   \n",
       "2                   3                1                 0         113931.57   \n",
       "3                   2                0                 0          93826.63   \n",
       "4                   1                1                 1          79084.10   \n",
       "\n",
       "   Churned  Age group  Balance category  Credit Score Category  \\\n",
       "0        1          1                 0                      1   \n",
       "1        0          1                 1                      1   \n",
       "2        1          1                 1                      0   \n",
       "3        0          0                 0                      2   \n",
       "4        0          1                 1                      4   \n",
       "\n",
       "   Estimated Salary Category  BalanceSalaryRatio  \n",
       "0                          2            0.000000  \n",
       "1                          2            0.744677  \n",
       "2                          2            1.401375  \n",
       "3                          1            0.000000  \n",
       "4                          1            1.587055  "
      ]
     },
     "execution_count": 170,
     "metadata": {},
     "output_type": "execute_result"
    }
   ],
   "source": [
    "df.head()"
   ]
  },
  {
   "cell_type": "code",
   "execution_count": 171,
   "id": "f7405bd0",
   "metadata": {
    "colab": {
     "base_uri": "https://localhost:8080/"
    },
    "executionInfo": {
     "elapsed": 22,
     "status": "ok",
     "timestamp": 1743303488930,
     "user": {
      "displayName": "Don LaSpezia",
      "userId": "10435712355543281385"
     },
     "user_tz": -120
    },
    "id": "f7405bd0",
    "outputId": "1ed069de-f031-4d58-e552-94c7dc64aa62"
   },
   "outputs": [
    {
     "name": "stdout",
     "output_type": "stream",
     "text": [
      "<class 'pandas.core.frame.DataFrame'>\n",
      "RangeIndex: 10000 entries, 0 to 9999\n",
      "Data columns (total 16 columns):\n",
      " #   Column                     Non-Null Count  Dtype  \n",
      "---  ------                     --------------  -----  \n",
      " 0   Credit Score               10000 non-null  int64  \n",
      " 1   Geography                  10000 non-null  int64  \n",
      " 2   Gender                     10000 non-null  int64  \n",
      " 3   Age                        10000 non-null  int64  \n",
      " 4   Tenure                     10000 non-null  int64  \n",
      " 5   Balance                    10000 non-null  float64\n",
      " 6   Number Of Products         10000 non-null  int64  \n",
      " 7   Has credit card            10000 non-null  int64  \n",
      " 8   Is Active Member           10000 non-null  int64  \n",
      " 9   Estimated Salary           10000 non-null  float64\n",
      " 10  Churned                    10000 non-null  int64  \n",
      " 11  Age group                  10000 non-null  int64  \n",
      " 12  Balance category           10000 non-null  int64  \n",
      " 13  Credit Score Category      10000 non-null  int64  \n",
      " 14  Estimated Salary Category  10000 non-null  int64  \n",
      " 15  BalanceSalaryRatio         10000 non-null  float64\n",
      "dtypes: float64(3), int64(13)\n",
      "memory usage: 1.2 MB\n"
     ]
    }
   ],
   "source": [
    "df.info()"
   ]
  },
  {
   "cell_type": "markdown",
   "id": "8d2250ab",
   "metadata": {
    "id": "8d2250ab"
   },
   "source": [
    "---------------------------------\n",
    "---------------------------------\n",
    "---------------------------------"
   ]
  },
  {
   "cell_type": "markdown",
   "id": "bfcbdbbd",
   "metadata": {
    "id": "bfcbdbbd"
   },
   "source": [
    "### **Spliting Data to train and test**"
   ]
  },
  {
   "cell_type": "markdown",
   "id": "62894bb7",
   "metadata": {},
   "source": [
    "-------------------------"
   ]
  },
  {
   "cell_type": "code",
   "execution_count": 172,
   "id": "4e465769",
   "metadata": {},
   "outputs": [],
   "source": [
    "x = df.drop('Churned', axis=1)\n",
    "y = df['Churned']\n",
    "\n",
    "x_train, x_test, y_train, y_test = train_test_split(x, y, train_size = 0.85 , random_state=1234)"
   ]
  },
  {
   "cell_type": "code",
   "execution_count": 173,
   "id": "2b533f4c",
   "metadata": {
    "colab": {
     "base_uri": "https://localhost:8080/"
    },
    "executionInfo": {
     "elapsed": 57,
     "status": "ok",
     "timestamp": 1743303488990,
     "user": {
      "displayName": "Don LaSpezia",
      "userId": "10435712355543281385"
     },
     "user_tz": -120
    },
    "id": "2b533f4c",
    "outputId": "a7d61cdd-560b-4b03-85f0-3a1214f56342"
   },
   "outputs": [
    {
     "name": "stdout",
     "output_type": "stream",
     "text": [
      "shape of x_train : (8500, 15)\n",
      "shape of x_test : (1500, 15)\n",
      "-------------------------------\n",
      "shape of y_train : (8500,)\n",
      "shape of y_test : (1500,)\n"
     ]
    }
   ],
   "source": [
    "print(f'shape of x_train : {x_train.shape}')\n",
    "print(f'shape of x_test : {x_test.shape}')\n",
    "print('-------------------------------')\n",
    "print(f'shape of y_train : {y_train.shape}')\n",
    "print(f'shape of y_test : {y_test.shape}')"
   ]
  },
  {
   "cell_type": "markdown",
   "id": "79556ce1",
   "metadata": {},
   "source": [
    "-------------------------\n",
    "-------------------------\n",
    "### **Feature Scaling**\n",
    "-------------------------"
   ]
  },
  {
   "cell_type": "code",
   "execution_count": 174,
   "id": "b526851b",
   "metadata": {},
   "outputs": [],
   "source": [
    "scaler = StandardScaler()\n",
    "\n",
    "x_train[['Credit Score','Age','Balance','Estimated Salary']] = scaler.fit_transform(x_train[['Credit Score','Age','Balance','Estimated Salary']])\n",
    "x_test[['Credit Score','Age','Balance','Estimated Salary']] = scaler.fit_transform(x_test[['Credit Score','Age','Balance','Estimated Salary']])"
   ]
  },
  {
   "cell_type": "code",
   "execution_count": 175,
   "id": "7a1edee1",
   "metadata": {},
   "outputs": [
    {
     "data": {
      "application/vnd.microsoft.datawrangler.viewer.v0+json": {
       "columns": [
        {
         "name": "index",
         "rawType": "int64",
         "type": "integer"
        },
        {
         "name": "Credit Score",
         "rawType": "float64",
         "type": "float"
        },
        {
         "name": "Geography",
         "rawType": "int64",
         "type": "integer"
        },
        {
         "name": "Gender",
         "rawType": "int64",
         "type": "integer"
        },
        {
         "name": "Age",
         "rawType": "float64",
         "type": "float"
        },
        {
         "name": "Tenure",
         "rawType": "int64",
         "type": "integer"
        },
        {
         "name": "Balance",
         "rawType": "float64",
         "type": "float"
        },
        {
         "name": "Number Of Products",
         "rawType": "int64",
         "type": "integer"
        },
        {
         "name": "Has credit card",
         "rawType": "int64",
         "type": "integer"
        },
        {
         "name": "Is Active Member",
         "rawType": "int64",
         "type": "integer"
        },
        {
         "name": "Estimated Salary",
         "rawType": "float64",
         "type": "float"
        },
        {
         "name": "Age group",
         "rawType": "int64",
         "type": "integer"
        },
        {
         "name": "Balance category",
         "rawType": "int64",
         "type": "integer"
        },
        {
         "name": "Credit Score Category",
         "rawType": "int64",
         "type": "integer"
        },
        {
         "name": "Estimated Salary Category",
         "rawType": "int64",
         "type": "integer"
        },
        {
         "name": "BalanceSalaryRatio",
         "rawType": "float64",
         "type": "float"
        }
       ],
       "ref": "b30fa271-f802-4f57-9f61-19de95b2c81d",
       "rows": [
        [
         "4124",
         "0.280911446029009",
         "0",
         "1",
         "-1.2367232913907786",
         "5",
         "0.5566107601435416",
         "1",
         "1",
         "0",
         "-0.6876052059969413",
         "0",
         "1",
         "2",
         "1",
         "1.8235268152435944"
        ],
        [
         "4502",
         "0.48688046039113875",
         "2",
         "1",
         "0.5726784530456102",
         "5",
         "1.4103677713876108",
         "1",
         "1",
         "0",
         "0.7239052411487913",
         "1",
         "1",
         "2",
         "2",
         "1.1583497699021246"
        ],
        [
         "898",
         "-1.3153484152774961",
         "0",
         "0",
         "0.09652009924656048",
         "2",
         "0.4259502919644163",
         "1",
         "1",
         "0",
         "0.4927797740535469",
         "0",
         "1",
         "0",
         "2",
         "0.8000445214180655"
        ],
        [
         "3305",
         "1.3931441235845095",
         "0",
         "0",
         "2.191616855962379",
         "8",
         "-1.2226687482067424",
         "1",
         "1",
         "1",
         "1.1373244419650423",
         "2",
         "0",
         "3",
         "3",
         "0.0"
        ],
        [
         "3531",
         "-2.4996702478597417",
         "0",
         "0",
         "4.286713612678198",
         "8",
         "0.18427878867299352",
         "1",
         "0",
         "0",
         "1.5341818737484574",
         "2",
         "1",
         "0",
         "3",
         "0.46621011635332177"
        ]
       ],
       "shape": {
        "columns": 15,
        "rows": 5
       }
      },
      "text/html": [
       "<div>\n",
       "<style scoped>\n",
       "    .dataframe tbody tr th:only-of-type {\n",
       "        vertical-align: middle;\n",
       "    }\n",
       "\n",
       "    .dataframe tbody tr th {\n",
       "        vertical-align: top;\n",
       "    }\n",
       "\n",
       "    .dataframe thead th {\n",
       "        text-align: right;\n",
       "    }\n",
       "</style>\n",
       "<table border=\"1\" class=\"dataframe\">\n",
       "  <thead>\n",
       "    <tr style=\"text-align: right;\">\n",
       "      <th></th>\n",
       "      <th>Credit Score</th>\n",
       "      <th>Geography</th>\n",
       "      <th>Gender</th>\n",
       "      <th>Age</th>\n",
       "      <th>Tenure</th>\n",
       "      <th>Balance</th>\n",
       "      <th>Number Of Products</th>\n",
       "      <th>Has credit card</th>\n",
       "      <th>Is Active Member</th>\n",
       "      <th>Estimated Salary</th>\n",
       "      <th>Age group</th>\n",
       "      <th>Balance category</th>\n",
       "      <th>Credit Score Category</th>\n",
       "      <th>Estimated Salary Category</th>\n",
       "      <th>BalanceSalaryRatio</th>\n",
       "    </tr>\n",
       "  </thead>\n",
       "  <tbody>\n",
       "    <tr>\n",
       "      <th>4124</th>\n",
       "      <td>0.280911</td>\n",
       "      <td>0</td>\n",
       "      <td>1</td>\n",
       "      <td>-1.236723</td>\n",
       "      <td>5</td>\n",
       "      <td>0.556611</td>\n",
       "      <td>1</td>\n",
       "      <td>1</td>\n",
       "      <td>0</td>\n",
       "      <td>-0.687605</td>\n",
       "      <td>0</td>\n",
       "      <td>1</td>\n",
       "      <td>2</td>\n",
       "      <td>1</td>\n",
       "      <td>1.823527</td>\n",
       "    </tr>\n",
       "    <tr>\n",
       "      <th>4502</th>\n",
       "      <td>0.486880</td>\n",
       "      <td>2</td>\n",
       "      <td>1</td>\n",
       "      <td>0.572678</td>\n",
       "      <td>5</td>\n",
       "      <td>1.410368</td>\n",
       "      <td>1</td>\n",
       "      <td>1</td>\n",
       "      <td>0</td>\n",
       "      <td>0.723905</td>\n",
       "      <td>1</td>\n",
       "      <td>1</td>\n",
       "      <td>2</td>\n",
       "      <td>2</td>\n",
       "      <td>1.158350</td>\n",
       "    </tr>\n",
       "    <tr>\n",
       "      <th>898</th>\n",
       "      <td>-1.315348</td>\n",
       "      <td>0</td>\n",
       "      <td>0</td>\n",
       "      <td>0.096520</td>\n",
       "      <td>2</td>\n",
       "      <td>0.425950</td>\n",
       "      <td>1</td>\n",
       "      <td>1</td>\n",
       "      <td>0</td>\n",
       "      <td>0.492780</td>\n",
       "      <td>0</td>\n",
       "      <td>1</td>\n",
       "      <td>0</td>\n",
       "      <td>2</td>\n",
       "      <td>0.800045</td>\n",
       "    </tr>\n",
       "    <tr>\n",
       "      <th>3305</th>\n",
       "      <td>1.393144</td>\n",
       "      <td>0</td>\n",
       "      <td>0</td>\n",
       "      <td>2.191617</td>\n",
       "      <td>8</td>\n",
       "      <td>-1.222669</td>\n",
       "      <td>1</td>\n",
       "      <td>1</td>\n",
       "      <td>1</td>\n",
       "      <td>1.137324</td>\n",
       "      <td>2</td>\n",
       "      <td>0</td>\n",
       "      <td>3</td>\n",
       "      <td>3</td>\n",
       "      <td>0.000000</td>\n",
       "    </tr>\n",
       "    <tr>\n",
       "      <th>3531</th>\n",
       "      <td>-2.499670</td>\n",
       "      <td>0</td>\n",
       "      <td>0</td>\n",
       "      <td>4.286714</td>\n",
       "      <td>8</td>\n",
       "      <td>0.184279</td>\n",
       "      <td>1</td>\n",
       "      <td>0</td>\n",
       "      <td>0</td>\n",
       "      <td>1.534182</td>\n",
       "      <td>2</td>\n",
       "      <td>1</td>\n",
       "      <td>0</td>\n",
       "      <td>3</td>\n",
       "      <td>0.466210</td>\n",
       "    </tr>\n",
       "  </tbody>\n",
       "</table>\n",
       "</div>"
      ],
      "text/plain": [
       "      Credit Score  Geography  Gender       Age  Tenure   Balance  \\\n",
       "4124      0.280911          0       1 -1.236723       5  0.556611   \n",
       "4502      0.486880          2       1  0.572678       5  1.410368   \n",
       "898      -1.315348          0       0  0.096520       2  0.425950   \n",
       "3305      1.393144          0       0  2.191617       8 -1.222669   \n",
       "3531     -2.499670          0       0  4.286714       8  0.184279   \n",
       "\n",
       "      Number Of Products  Has credit card  Is Active Member  Estimated Salary  \\\n",
       "4124                   1                1                 0         -0.687605   \n",
       "4502                   1                1                 0          0.723905   \n",
       "898                    1                1                 0          0.492780   \n",
       "3305                   1                1                 1          1.137324   \n",
       "3531                   1                0                 0          1.534182   \n",
       "\n",
       "      Age group  Balance category  Credit Score Category  \\\n",
       "4124          0                 1                      2   \n",
       "4502          1                 1                      2   \n",
       "898           0                 1                      0   \n",
       "3305          2                 0                      3   \n",
       "3531          2                 1                      0   \n",
       "\n",
       "      Estimated Salary Category  BalanceSalaryRatio  \n",
       "4124                          1            1.823527  \n",
       "4502                          2            1.158350  \n",
       "898                           2            0.800045  \n",
       "3305                          3            0.000000  \n",
       "3531                          3            0.466210  "
      ]
     },
     "execution_count": 175,
     "metadata": {},
     "output_type": "execute_result"
    }
   ],
   "source": [
    "x_train.head()"
   ]
  },
  {
   "cell_type": "markdown",
   "id": "a4fe6d2a",
   "metadata": {
    "id": "a4fe6d2a"
   },
   "source": [
    "-------------------------------------------\n",
    "-------------------------------------------"
   ]
  },
  {
   "cell_type": "markdown",
   "id": "5ffd79e9",
   "metadata": {
    "id": "5ffd79e9"
   },
   "source": [
    "## **Creating Model**"
   ]
  },
  {
   "cell_type": "markdown",
   "id": "b38e400a",
   "metadata": {},
   "source": [
    "------------------------"
   ]
  },
  {
   "cell_type": "code",
   "execution_count": 176,
   "id": "34f4cfd1",
   "metadata": {},
   "outputs": [
    {
     "data": {
      "application/vnd.microsoft.datawrangler.viewer.v0+json": {
       "columns": [
        {
         "name": "index",
         "rawType": "int64",
         "type": "integer"
        },
        {
         "name": "Credit Score",
         "rawType": "int64",
         "type": "integer"
        },
        {
         "name": "Geography",
         "rawType": "int64",
         "type": "integer"
        },
        {
         "name": "Gender",
         "rawType": "int64",
         "type": "integer"
        },
        {
         "name": "Age",
         "rawType": "int64",
         "type": "integer"
        },
        {
         "name": "Tenure",
         "rawType": "int64",
         "type": "integer"
        },
        {
         "name": "Balance",
         "rawType": "float64",
         "type": "float"
        },
        {
         "name": "Number Of Products",
         "rawType": "int64",
         "type": "integer"
        },
        {
         "name": "Has credit card",
         "rawType": "int64",
         "type": "integer"
        },
        {
         "name": "Is Active Member",
         "rawType": "int64",
         "type": "integer"
        },
        {
         "name": "Estimated Salary",
         "rawType": "float64",
         "type": "float"
        },
        {
         "name": "Churned",
         "rawType": "int64",
         "type": "integer"
        },
        {
         "name": "Age group",
         "rawType": "int64",
         "type": "integer"
        },
        {
         "name": "Balance category",
         "rawType": "int64",
         "type": "integer"
        },
        {
         "name": "Credit Score Category",
         "rawType": "int64",
         "type": "integer"
        },
        {
         "name": "Estimated Salary Category",
         "rawType": "int64",
         "type": "integer"
        },
        {
         "name": "BalanceSalaryRatio",
         "rawType": "float64",
         "type": "float"
        }
       ],
       "ref": "dd80bb9c-c7df-46ea-ae44-71fb801d47dd",
       "rows": [
        [
         "0",
         "619",
         "0",
         "0",
         "42",
         "2",
         "0.0",
         "1",
         "1",
         "1",
         "101348.88",
         "1",
         "1",
         "0",
         "1",
         "2",
         "0.0"
        ],
        [
         "1",
         "608",
         "2",
         "0",
         "41",
         "1",
         "83807.86",
         "1",
         "0",
         "1",
         "112542.58",
         "0",
         "1",
         "1",
         "1",
         "2",
         "0.7446769036217226"
        ],
        [
         "2",
         "502",
         "0",
         "0",
         "42",
         "8",
         "159660.8",
         "3",
         "1",
         "0",
         "113931.57",
         "1",
         "1",
         "1",
         "0",
         "2",
         "1.4013745268322026"
        ],
        [
         "3",
         "699",
         "0",
         "0",
         "39",
         "1",
         "0.0",
         "2",
         "0",
         "0",
         "93826.63",
         "0",
         "0",
         "0",
         "2",
         "1",
         "0.0"
        ],
        [
         "4",
         "850",
         "2",
         "0",
         "43",
         "2",
         "125510.82",
         "1",
         "1",
         "1",
         "79084.1",
         "0",
         "1",
         "1",
         "4",
         "1",
         "1.5870550464631954"
        ],
        [
         "5",
         "645",
         "2",
         "1",
         "44",
         "8",
         "113755.78",
         "2",
         "1",
         "0",
         "149756.71",
         "1",
         "1",
         "1",
         "1",
         "2",
         "0.7596038935417319"
        ],
        [
         "6",
         "822",
         "0",
         "1",
         "50",
         "7",
         "0.0",
         "2",
         "1",
         "1",
         "10062.8",
         "0",
         "1",
         "0",
         "4",
         "0",
         "0.0"
        ],
        [
         "7",
         "376",
         "1",
         "0",
         "29",
         "4",
         "115046.74",
         "4",
         "1",
         "0",
         "119346.88",
         "1",
         "0",
         "1",
         "0",
         "2",
         "0.9639693974404694"
        ],
        [
         "8",
         "501",
         "0",
         "1",
         "44",
         "4",
         "142051.07",
         "2",
         "0",
         "1",
         "74940.5",
         "0",
         "1",
         "1",
         "0",
         "1",
         "1.8955180443151567"
        ],
        [
         "9",
         "684",
         "0",
         "1",
         "27",
         "2",
         "134603.88",
         "1",
         "1",
         "1",
         "71725.73",
         "0",
         "0",
         "1",
         "2",
         "1",
         "1.876647055387237"
        ],
        [
         "10",
         "528",
         "0",
         "1",
         "31",
         "6",
         "102016.72",
         "2",
         "0",
         "0",
         "80181.12",
         "0",
         "0",
         "1",
         "0",
         "1",
         "1.2723284483928388"
        ],
        [
         "11",
         "497",
         "2",
         "1",
         "24",
         "3",
         "0.0",
         "2",
         "1",
         "0",
         "76390.01",
         "0",
         "0",
         "0",
         "0",
         "1",
         "0.0"
        ],
        [
         "12",
         "476",
         "0",
         "0",
         "34",
         "10",
         "0.0",
         "2",
         "1",
         "0",
         "26260.98",
         "0",
         "0",
         "0",
         "0",
         "0",
         "0.0"
        ],
        [
         "13",
         "549",
         "0",
         "0",
         "25",
         "5",
         "0.0",
         "2",
         "0",
         "0",
         "190857.79",
         "0",
         "0",
         "0",
         "0",
         "3",
         "0.0"
        ],
        [
         "14",
         "635",
         "2",
         "0",
         "35",
         "7",
         "0.0",
         "2",
         "1",
         "1",
         "65951.65",
         "0",
         "0",
         "0",
         "1",
         "1",
         "0.0"
        ],
        [
         "15",
         "616",
         "1",
         "1",
         "45",
         "3",
         "143129.41",
         "2",
         "0",
         "1",
         "64327.26",
         "0",
         "1",
         "1",
         "1",
         "1",
         "2.2250195329320728"
        ],
        [
         "16",
         "653",
         "1",
         "1",
         "58",
         "1",
         "132602.88",
         "1",
         "1",
         "0",
         "5097.67",
         "1",
         "1",
         "1",
         "1",
         "0",
         "26.01244882465911"
        ],
        [
         "17",
         "549",
         "2",
         "0",
         "24",
         "9",
         "0.0",
         "2",
         "1",
         "1",
         "14406.41",
         "0",
         "0",
         "0",
         "0",
         "0",
         "0.0"
        ],
        [
         "18",
         "587",
         "2",
         "1",
         "45",
         "6",
         "0.0",
         "1",
         "0",
         "0",
         "158684.81",
         "0",
         "1",
         "0",
         "1",
         "3",
         "0.0"
        ],
        [
         "19",
         "726",
         "0",
         "0",
         "24",
         "6",
         "0.0",
         "2",
         "1",
         "1",
         "54724.03",
         "0",
         "0",
         "0",
         "2",
         "1",
         "0.0"
        ],
        [
         "20",
         "732",
         "0",
         "1",
         "41",
         "8",
         "0.0",
         "2",
         "1",
         "1",
         "170886.17",
         "0",
         "1",
         "0",
         "2",
         "3",
         "0.0"
        ],
        [
         "21",
         "636",
         "2",
         "0",
         "32",
         "8",
         "0.0",
         "2",
         "1",
         "0",
         "138555.46",
         "0",
         "0",
         "0",
         "1",
         "2",
         "0.0"
        ],
        [
         "22",
         "510",
         "2",
         "0",
         "38",
         "4",
         "0.0",
         "1",
         "1",
         "0",
         "118913.53",
         "1",
         "0",
         "0",
         "0",
         "2",
         "0.0"
        ],
        [
         "23",
         "669",
         "0",
         "1",
         "46",
         "3",
         "0.0",
         "2",
         "0",
         "1",
         "8487.75",
         "0",
         "1",
         "0",
         "1",
         "0",
         "0.0"
        ],
        [
         "24",
         "846",
         "0",
         "0",
         "38",
         "5",
         "0.0",
         "1",
         "1",
         "1",
         "187616.16",
         "0",
         "0",
         "0",
         "4",
         "3",
         "0.0"
        ],
        [
         "25",
         "577",
         "0",
         "1",
         "25",
         "3",
         "0.0",
         "2",
         "0",
         "1",
         "124508.29",
         "0",
         "0",
         "0",
         "0",
         "2",
         "0.0"
        ],
        [
         "26",
         "756",
         "1",
         "1",
         "36",
         "2",
         "136815.64",
         "1",
         "1",
         "1",
         "170041.95",
         "0",
         "0",
         "1",
         "3",
         "3",
         "0.8045993356345302"
        ],
        [
         "27",
         "571",
         "0",
         "1",
         "44",
         "9",
         "0.0",
         "2",
         "0",
         "0",
         "38433.35",
         "0",
         "1",
         "0",
         "0",
         "0",
         "0.0"
        ],
        [
         "28",
         "574",
         "1",
         "0",
         "43",
         "3",
         "141349.43",
         "1",
         "1",
         "1",
         "100187.43",
         "0",
         "1",
         "1",
         "0",
         "2",
         "1.4108499439500544"
        ],
        [
         "29",
         "411",
         "0",
         "1",
         "29",
         "0",
         "59697.17",
         "2",
         "1",
         "1",
         "53483.21",
         "0",
         "0",
         "1",
         "0",
         "1",
         "1.1161852476693153"
        ],
        [
         "30",
         "591",
         "2",
         "0",
         "39",
         "3",
         "0.0",
         "3",
         "1",
         "0",
         "140469.38",
         "1",
         "0",
         "0",
         "1",
         "2",
         "0.0"
        ],
        [
         "31",
         "533",
         "0",
         "1",
         "36",
         "7",
         "85311.7",
         "1",
         "0",
         "1",
         "156731.91",
         "0",
         "0",
         "1",
         "0",
         "3",
         "0.5443160872600863"
        ],
        [
         "32",
         "553",
         "1",
         "1",
         "41",
         "9",
         "110112.54",
         "2",
         "0",
         "0",
         "81898.81",
         "0",
         "1",
         "1",
         "0",
         "1",
         "1.344494993272796"
        ],
        [
         "33",
         "520",
         "2",
         "0",
         "42",
         "6",
         "0.0",
         "2",
         "1",
         "1",
         "34410.55",
         "0",
         "1",
         "0",
         "0",
         "0",
         "0.0"
        ],
        [
         "34",
         "722",
         "2",
         "0",
         "29",
         "9",
         "0.0",
         "2",
         "1",
         "1",
         "142033.07",
         "0",
         "0",
         "0",
         "2",
         "2",
         "0.0"
        ],
        [
         "35",
         "475",
         "0",
         "0",
         "45",
         "0",
         "134264.04",
         "1",
         "1",
         "0",
         "27822.99",
         "1",
         "1",
         "1",
         "0",
         "0",
         "4.825651017378075"
        ],
        [
         "36",
         "490",
         "2",
         "1",
         "31",
         "3",
         "145260.23",
         "1",
         "0",
         "1",
         "114066.77",
         "0",
         "0",
         "1",
         "0",
         "2",
         "1.273466672195592"
        ],
        [
         "37",
         "804",
         "2",
         "1",
         "33",
         "7",
         "76548.6",
         "1",
         "0",
         "1",
         "98453.45",
         "0",
         "0",
         "1",
         "4",
         "1",
         "0.7775105900301108"
        ],
        [
         "38",
         "850",
         "0",
         "1",
         "36",
         "7",
         "0.0",
         "1",
         "1",
         "1",
         "40812.9",
         "0",
         "0",
         "0",
         "4",
         "0",
         "0.0"
        ],
        [
         "39",
         "582",
         "1",
         "1",
         "41",
         "6",
         "70349.48",
         "2",
         "0",
         "1",
         "178074.04",
         "0",
         "1",
         "1",
         "1",
         "3",
         "0.3950574716000153"
        ],
        [
         "40",
         "472",
         "2",
         "1",
         "40",
         "4",
         "0.0",
         "1",
         "1",
         "0",
         "70154.22",
         "0",
         "0",
         "0",
         "0",
         "1",
         "0.0"
        ],
        [
         "41",
         "465",
         "0",
         "0",
         "51",
         "8",
         "122522.32",
         "1",
         "0",
         "0",
         "181297.65",
         "1",
         "1",
         "1",
         "0",
         "3",
         "0.675807546319547"
        ],
        [
         "42",
         "556",
         "0",
         "0",
         "61",
         "2",
         "117419.35",
         "1",
         "1",
         "1",
         "94153.83",
         "0",
         "2",
         "1",
         "0",
         "1",
         "1.2471011535059169"
        ],
        [
         "43",
         "834",
         "0",
         "0",
         "49",
         "2",
         "131394.56",
         "1",
         "0",
         "0",
         "194365.76",
         "1",
         "1",
         "1",
         "4",
         "3",
         "0.6760170104034784"
        ],
        [
         "44",
         "660",
         "2",
         "0",
         "61",
         "5",
         "155931.11",
         "1",
         "1",
         "1",
         "158338.39",
         "0",
         "2",
         "1",
         "1",
         "3",
         "0.9847966118639957"
        ],
        [
         "45",
         "776",
         "1",
         "0",
         "32",
         "4",
         "109421.13",
         "2",
         "1",
         "1",
         "126517.46",
         "0",
         "0",
         "1",
         "3",
         "2",
         "0.8648697974176844"
        ],
        [
         "46",
         "829",
         "1",
         "0",
         "27",
         "9",
         "112045.67",
         "1",
         "1",
         "1",
         "119708.21",
         "1",
         "0",
         "1",
         "4",
         "2",
         "0.9359898539958119"
        ],
        [
         "47",
         "637",
         "1",
         "0",
         "39",
         "9",
         "137843.8",
         "1",
         "1",
         "1",
         "117622.8",
         "1",
         "0",
         "1",
         "1",
         "2",
         "1.1719139486562127"
        ],
        [
         "48",
         "550",
         "1",
         "1",
         "38",
         "2",
         "103391.38",
         "1",
         "0",
         "1",
         "90878.13",
         "0",
         "0",
         "1",
         "0",
         "1",
         "1.1376926439837616"
        ],
        [
         "49",
         "776",
         "1",
         "0",
         "37",
         "2",
         "103769.22",
         "2",
         "1",
         "0",
         "194099.12",
         "0",
         "0",
         "1",
         "3",
         "3",
         "0.5346197344944171"
        ]
       ],
       "shape": {
        "columns": 16,
        "rows": 10000
       }
      },
      "text/html": [
       "<div>\n",
       "<style scoped>\n",
       "    .dataframe tbody tr th:only-of-type {\n",
       "        vertical-align: middle;\n",
       "    }\n",
       "\n",
       "    .dataframe tbody tr th {\n",
       "        vertical-align: top;\n",
       "    }\n",
       "\n",
       "    .dataframe thead th {\n",
       "        text-align: right;\n",
       "    }\n",
       "</style>\n",
       "<table border=\"1\" class=\"dataframe\">\n",
       "  <thead>\n",
       "    <tr style=\"text-align: right;\">\n",
       "      <th></th>\n",
       "      <th>Credit Score</th>\n",
       "      <th>Geography</th>\n",
       "      <th>Gender</th>\n",
       "      <th>Age</th>\n",
       "      <th>Tenure</th>\n",
       "      <th>Balance</th>\n",
       "      <th>Number Of Products</th>\n",
       "      <th>Has credit card</th>\n",
       "      <th>Is Active Member</th>\n",
       "      <th>Estimated Salary</th>\n",
       "      <th>Churned</th>\n",
       "      <th>Age group</th>\n",
       "      <th>Balance category</th>\n",
       "      <th>Credit Score Category</th>\n",
       "      <th>Estimated Salary Category</th>\n",
       "      <th>BalanceSalaryRatio</th>\n",
       "    </tr>\n",
       "  </thead>\n",
       "  <tbody>\n",
       "    <tr>\n",
       "      <th>0</th>\n",
       "      <td>619</td>\n",
       "      <td>0</td>\n",
       "      <td>0</td>\n",
       "      <td>42</td>\n",
       "      <td>2</td>\n",
       "      <td>0.00</td>\n",
       "      <td>1</td>\n",
       "      <td>1</td>\n",
       "      <td>1</td>\n",
       "      <td>101348.88</td>\n",
       "      <td>1</td>\n",
       "      <td>1</td>\n",
       "      <td>0</td>\n",
       "      <td>1</td>\n",
       "      <td>2</td>\n",
       "      <td>0.000000</td>\n",
       "    </tr>\n",
       "    <tr>\n",
       "      <th>1</th>\n",
       "      <td>608</td>\n",
       "      <td>2</td>\n",
       "      <td>0</td>\n",
       "      <td>41</td>\n",
       "      <td>1</td>\n",
       "      <td>83807.86</td>\n",
       "      <td>1</td>\n",
       "      <td>0</td>\n",
       "      <td>1</td>\n",
       "      <td>112542.58</td>\n",
       "      <td>0</td>\n",
       "      <td>1</td>\n",
       "      <td>1</td>\n",
       "      <td>1</td>\n",
       "      <td>2</td>\n",
       "      <td>0.744677</td>\n",
       "    </tr>\n",
       "    <tr>\n",
       "      <th>2</th>\n",
       "      <td>502</td>\n",
       "      <td>0</td>\n",
       "      <td>0</td>\n",
       "      <td>42</td>\n",
       "      <td>8</td>\n",
       "      <td>159660.80</td>\n",
       "      <td>3</td>\n",
       "      <td>1</td>\n",
       "      <td>0</td>\n",
       "      <td>113931.57</td>\n",
       "      <td>1</td>\n",
       "      <td>1</td>\n",
       "      <td>1</td>\n",
       "      <td>0</td>\n",
       "      <td>2</td>\n",
       "      <td>1.401375</td>\n",
       "    </tr>\n",
       "    <tr>\n",
       "      <th>3</th>\n",
       "      <td>699</td>\n",
       "      <td>0</td>\n",
       "      <td>0</td>\n",
       "      <td>39</td>\n",
       "      <td>1</td>\n",
       "      <td>0.00</td>\n",
       "      <td>2</td>\n",
       "      <td>0</td>\n",
       "      <td>0</td>\n",
       "      <td>93826.63</td>\n",
       "      <td>0</td>\n",
       "      <td>0</td>\n",
       "      <td>0</td>\n",
       "      <td>2</td>\n",
       "      <td>1</td>\n",
       "      <td>0.000000</td>\n",
       "    </tr>\n",
       "    <tr>\n",
       "      <th>4</th>\n",
       "      <td>850</td>\n",
       "      <td>2</td>\n",
       "      <td>0</td>\n",
       "      <td>43</td>\n",
       "      <td>2</td>\n",
       "      <td>125510.82</td>\n",
       "      <td>1</td>\n",
       "      <td>1</td>\n",
       "      <td>1</td>\n",
       "      <td>79084.10</td>\n",
       "      <td>0</td>\n",
       "      <td>1</td>\n",
       "      <td>1</td>\n",
       "      <td>4</td>\n",
       "      <td>1</td>\n",
       "      <td>1.587055</td>\n",
       "    </tr>\n",
       "    <tr>\n",
       "      <th>...</th>\n",
       "      <td>...</td>\n",
       "      <td>...</td>\n",
       "      <td>...</td>\n",
       "      <td>...</td>\n",
       "      <td>...</td>\n",
       "      <td>...</td>\n",
       "      <td>...</td>\n",
       "      <td>...</td>\n",
       "      <td>...</td>\n",
       "      <td>...</td>\n",
       "      <td>...</td>\n",
       "      <td>...</td>\n",
       "      <td>...</td>\n",
       "      <td>...</td>\n",
       "      <td>...</td>\n",
       "      <td>...</td>\n",
       "    </tr>\n",
       "    <tr>\n",
       "      <th>9995</th>\n",
       "      <td>771</td>\n",
       "      <td>0</td>\n",
       "      <td>1</td>\n",
       "      <td>39</td>\n",
       "      <td>5</td>\n",
       "      <td>0.00</td>\n",
       "      <td>2</td>\n",
       "      <td>1</td>\n",
       "      <td>0</td>\n",
       "      <td>96270.64</td>\n",
       "      <td>0</td>\n",
       "      <td>0</td>\n",
       "      <td>0</td>\n",
       "      <td>3</td>\n",
       "      <td>1</td>\n",
       "      <td>0.000000</td>\n",
       "    </tr>\n",
       "    <tr>\n",
       "      <th>9996</th>\n",
       "      <td>516</td>\n",
       "      <td>0</td>\n",
       "      <td>1</td>\n",
       "      <td>35</td>\n",
       "      <td>10</td>\n",
       "      <td>57369.61</td>\n",
       "      <td>1</td>\n",
       "      <td>1</td>\n",
       "      <td>1</td>\n",
       "      <td>101699.77</td>\n",
       "      <td>0</td>\n",
       "      <td>0</td>\n",
       "      <td>1</td>\n",
       "      <td>0</td>\n",
       "      <td>2</td>\n",
       "      <td>0.564108</td>\n",
       "    </tr>\n",
       "    <tr>\n",
       "      <th>9997</th>\n",
       "      <td>709</td>\n",
       "      <td>0</td>\n",
       "      <td>0</td>\n",
       "      <td>36</td>\n",
       "      <td>7</td>\n",
       "      <td>0.00</td>\n",
       "      <td>1</td>\n",
       "      <td>0</td>\n",
       "      <td>1</td>\n",
       "      <td>42085.58</td>\n",
       "      <td>1</td>\n",
       "      <td>0</td>\n",
       "      <td>0</td>\n",
       "      <td>2</td>\n",
       "      <td>0</td>\n",
       "      <td>0.000000</td>\n",
       "    </tr>\n",
       "    <tr>\n",
       "      <th>9998</th>\n",
       "      <td>772</td>\n",
       "      <td>1</td>\n",
       "      <td>1</td>\n",
       "      <td>42</td>\n",
       "      <td>3</td>\n",
       "      <td>75075.31</td>\n",
       "      <td>2</td>\n",
       "      <td>1</td>\n",
       "      <td>0</td>\n",
       "      <td>92888.52</td>\n",
       "      <td>1</td>\n",
       "      <td>1</td>\n",
       "      <td>1</td>\n",
       "      <td>3</td>\n",
       "      <td>1</td>\n",
       "      <td>0.808230</td>\n",
       "    </tr>\n",
       "    <tr>\n",
       "      <th>9999</th>\n",
       "      <td>792</td>\n",
       "      <td>0</td>\n",
       "      <td>0</td>\n",
       "      <td>28</td>\n",
       "      <td>4</td>\n",
       "      <td>130142.79</td>\n",
       "      <td>1</td>\n",
       "      <td>1</td>\n",
       "      <td>0</td>\n",
       "      <td>38190.78</td>\n",
       "      <td>0</td>\n",
       "      <td>0</td>\n",
       "      <td>1</td>\n",
       "      <td>3</td>\n",
       "      <td>0</td>\n",
       "      <td>3.407702</td>\n",
       "    </tr>\n",
       "  </tbody>\n",
       "</table>\n",
       "<p>10000 rows × 16 columns</p>\n",
       "</div>"
      ],
      "text/plain": [
       "      Credit Score  Geography  Gender  Age  Tenure    Balance  \\\n",
       "0              619          0       0   42       2       0.00   \n",
       "1              608          2       0   41       1   83807.86   \n",
       "2              502          0       0   42       8  159660.80   \n",
       "3              699          0       0   39       1       0.00   \n",
       "4              850          2       0   43       2  125510.82   \n",
       "...            ...        ...     ...  ...     ...        ...   \n",
       "9995           771          0       1   39       5       0.00   \n",
       "9996           516          0       1   35      10   57369.61   \n",
       "9997           709          0       0   36       7       0.00   \n",
       "9998           772          1       1   42       3   75075.31   \n",
       "9999           792          0       0   28       4  130142.79   \n",
       "\n",
       "      Number Of Products  Has credit card  Is Active Member  Estimated Salary  \\\n",
       "0                      1                1                 1         101348.88   \n",
       "1                      1                0                 1         112542.58   \n",
       "2                      3                1                 0         113931.57   \n",
       "3                      2                0                 0          93826.63   \n",
       "4                      1                1                 1          79084.10   \n",
       "...                  ...              ...               ...               ...   \n",
       "9995                   2                1                 0          96270.64   \n",
       "9996                   1                1                 1         101699.77   \n",
       "9997                   1                0                 1          42085.58   \n",
       "9998                   2                1                 0          92888.52   \n",
       "9999                   1                1                 0          38190.78   \n",
       "\n",
       "      Churned  Age group  Balance category  Credit Score Category  \\\n",
       "0           1          1                 0                      1   \n",
       "1           0          1                 1                      1   \n",
       "2           1          1                 1                      0   \n",
       "3           0          0                 0                      2   \n",
       "4           0          1                 1                      4   \n",
       "...       ...        ...               ...                    ...   \n",
       "9995        0          0                 0                      3   \n",
       "9996        0          0                 1                      0   \n",
       "9997        1          0                 0                      2   \n",
       "9998        1          1                 1                      3   \n",
       "9999        0          0                 1                      3   \n",
       "\n",
       "      Estimated Salary Category  BalanceSalaryRatio  \n",
       "0                             2            0.000000  \n",
       "1                             2            0.744677  \n",
       "2                             2            1.401375  \n",
       "3                             1            0.000000  \n",
       "4                             1            1.587055  \n",
       "...                         ...                 ...  \n",
       "9995                          1            0.000000  \n",
       "9996                          2            0.564108  \n",
       "9997                          0            0.000000  \n",
       "9998                          1            0.808230  \n",
       "9999                          0            3.407702  \n",
       "\n",
       "[10000 rows x 16 columns]"
      ]
     },
     "execution_count": 176,
     "metadata": {},
     "output_type": "execute_result"
    }
   ],
   "source": [
    "df"
   ]
  },
  {
   "cell_type": "markdown",
   "id": "5c22f611",
   "metadata": {},
   "source": [
    "-----------------------------\n",
    "### **Finding the best threshold**\n",
    "-----------------------------"
   ]
  },
  {
   "cell_type": "code",
   "execution_count": 177,
   "id": "0417d07d",
   "metadata": {},
   "outputs": [],
   "source": [
    "models = [\n",
    "    LogisticRegression(\n",
    "        penalty='l2',           # 'l1', 'l2', 'elasticnet', or 'none'\n",
    "        C=1.0,                  # Inverse of regularization strength (smaller = stronger regularization)\n",
    "        solver='lbfgs',         # 'lbfgs', 'liblinear', 'saga', …\n",
    "        # class_weight='balanced',      # {class_label: weight} or 'balanced'\n",
    "        max_iter=100,           # Increase if convergence warning\n",
    "        random_state=None ),\n",
    "\n",
    "    GaussianNB(\n",
    "        var_smoothing=1e-9,     # Additive smoothing to variance\n",
    "        priors=None             # Prior probabilities for classes\n",
    "    ),\n",
    "\n",
    "    SVC(\n",
    "        C=1.0,                  # Regularization parameter\n",
    "        kernel='sigmoid',       # 'linear', 'poly', 'rbf', 'sigmoid'\n",
    "        degree=0,               # Degree for 'poly'\n",
    "        gamma='scale',          # Kernel coefficient\n",
    "        #class_weight= weights,  # 'balanced' or dict\n",
    "        probability=False,      # True if you want predict_proba\n",
    "        random_state=None\n",
    "    ),\n",
    "\n",
    "    RandomForestClassifier(\n",
    "        n_estimators=100,       # Number of trees\n",
    "        criterion='gini',       # 'gini' or 'entropy'\n",
    "        max_depth=None,         # Depth of trees\n",
    "        min_samples_split=2,    # Min samples to split a node\n",
    "        min_samples_leaf=1,     # Min samples at leaf\n",
    "        max_features='sqrt',    # 'auto', 'sqrt', 'log2' or int/float\n",
    "        #class_weight=weights,      # 'balanced' or dict\n",
    "        bootstrap=True,\n",
    "        random_state=None\n",
    "    ),\n",
    "\n",
    "    DecisionTreeClassifier(\n",
    "        criterion='gini',       # 'gini' or 'entropy'\n",
    "        splitter='best',        # 'best' or 'random'\n",
    "        max_depth=None,\n",
    "        min_samples_split=2,\n",
    "        min_samples_leaf=1,\n",
    "        max_features=None,\n",
    "        #class_weight=weights,      # 'balanced' or dict\n",
    "        random_state=None\n",
    "    ),\n",
    "\n",
    "    KNeighborsClassifier(\n",
    "        n_neighbors=5,          # Number of neighbors (k)\n",
    "        weights='uniform',      # 'uniform' or 'distance'\n",
    "        algorithm='auto',       # 'auto', 'ball_tree', 'kd_tree', 'brute'\n",
    "        leaf_size=30,\n",
    "        p=2,                    # 1 = Manhattan, 2 = Euclidean\n",
    "        metric='minkowski'\n",
    "    ),\n",
    "     \n",
    "    XGBClassifier(\n",
    "        n_estimators=100,       # Number of boosting rounds (trees)\n",
    "        learning_rate=0.1,      # Shrinkage (eta)\n",
    "        max_depth=3,            # Depth of trees\n",
    "        subsample=1.0,          # Subsampling of rows\n",
    "        colsample_bytree=1.0,   # Subsampling of features per tree\n",
    "        gamma=0,                # Minimum loss reduction to make a split\n",
    "        min_child_weight=1,     # Min sum of instance weight per child\n",
    "        scale_pos_weight=3.91,     # Weight for positive class (important for imbalance)\n",
    "        reg_alpha=0,            # L1 regularization\n",
    "        reg_lambda=1,           # L2 regularization\n",
    "        random_state=None ),\n",
    "    \n",
    "    # LightGBM\n",
    "    LGBMClassifier(\n",
    "        n_estimators=500,\n",
    "        learning_rate=0.05,\n",
    "        max_depth=-1,                 # -1 = no limit\n",
    "        num_leaves=31,\n",
    "        subsample=0.8,\n",
    "        colsample_bytree=0.8,\n",
    "        #class_weight='balanced',      # built-in balancing\n",
    "        random_state=42)\n",
    "]"
   ]
  },
  {
   "cell_type": "code",
   "execution_count": 178,
   "id": "8e60814f",
   "metadata": {},
   "outputs": [],
   "source": [
    "def best_threshold_roc(model, x_train, y_train, x_test, y_test):\n",
    "\n",
    "    model.fit(x_train, y_train)\n",
    "    # get probabilities\n",
    "    if hasattr(model, \"predict_proba\"):\n",
    "        y_probs = model.predict_proba(x_test)[:, 1]\n",
    "    elif hasattr(model, \"decision_function\"):\n",
    "        y_probs = model.decision_function(x_test)\n",
    "    else:\n",
    "        raise ValueError(\"Model does not support probability or decision_function.\")\n",
    "    \n",
    "    # ROC curve\n",
    "    fpr, tpr, thresholds = roc_curve(y_test, y_probs)\n",
    "    \n",
    "    # Youden’s J statistic\n",
    "    J = tpr - fpr\n",
    "    best_idx = np.argmax(J)\n",
    "    best_t = thresholds[best_idx]\n",
    "    \n",
    "    auc = roc_auc_score(y_test, y_probs)\n",
    "    \n",
    "    print(f\"Model = {model}\")\n",
    "    print(f\"ROC-AUC = {auc:.3f}\")\n",
    "    print(f\"Best ROC threshold = {best_t:.3f}\")\n",
    "    print(f\"TPR = {tpr[best_idx]:.3f}, FPR = {fpr[best_idx]:.3f}\")\n",
    "    \n",
    "    return best_t, auc\n"
   ]
  },
  {
   "cell_type": "code",
   "execution_count": 179,
   "id": "301be400",
   "metadata": {},
   "outputs": [],
   "source": [
    "def predict_with_threshold(model, x_train, y_train, x_test, threshold):\n",
    "    model = model.fit(x_train, y_train)\n",
    "    if hasattr(model, \"predict_proba\"):\n",
    "        y_probs = model.predict_proba(x_test)[:, 1]\n",
    "    elif hasattr(model, \"decision_function\"):\n",
    "        y_probs = model.decision_function(x_test)\n",
    "    else:\n",
    "        raise ValueError(\"Model does not support probability outputs.\")\n",
    "    \n",
    "    return (y_probs >= threshold).astype(int)"
   ]
  },
  {
   "cell_type": "markdown",
   "id": "1b8f5406",
   "metadata": {},
   "source": [
    "------------------------------"
   ]
  },
  {
   "cell_type": "code",
   "execution_count": 180,
   "id": "ae7f77fb",
   "metadata": {},
   "outputs": [
    {
     "name": "stdout",
     "output_type": "stream",
     "text": [
      "Model = LogisticRegression()\n",
      "ROC-AUC = 0.749\n",
      "Best ROC threshold = 0.234\n",
      "TPR = 0.622, FPR = 0.235\n"
     ]
    },
    {
     "name": "stderr",
     "output_type": "stream",
     "text": [
      "C:\\Users\\RPC\\AppData\\Local\\Packages\\PythonSoftwareFoundation.Python.3.11_qbz5n2kfra8p0\\LocalCache\\local-packages\\Python311\\site-packages\\sklearn\\linear_model\\_logistic.py:465: ConvergenceWarning: lbfgs failed to converge (status=1):\n",
      "STOP: TOTAL NO. OF ITERATIONS REACHED LIMIT.\n",
      "\n",
      "Increase the number of iterations (max_iter) or scale the data as shown in:\n",
      "    https://scikit-learn.org/stable/modules/preprocessing.html\n",
      "Please also refer to the documentation for alternative solver options:\n",
      "    https://scikit-learn.org/stable/modules/linear_model.html#logistic-regression\n",
      "  n_iter_i = _check_optimize_result(\n"
     ]
    },
    {
     "data": {
      "text/plain": [
       "(np.float64(0.23402304129077633), np.float64(0.7491747462805562))"
      ]
     },
     "execution_count": 180,
     "metadata": {},
     "output_type": "execute_result"
    }
   ],
   "source": [
    "best_threshold_roc(models[0], x_train, y_train, x_test, y_test)"
   ]
  },
  {
   "cell_type": "code",
   "execution_count": 181,
   "id": "061f811d",
   "metadata": {},
   "outputs": [
    {
     "name": "stdout",
     "output_type": "stream",
     "text": [
      "Classification Report:\n",
      "               precision    recall  f1-score   support\n",
      "\n",
      "           0       0.81      0.99      0.89      1193\n",
      "           1       0.66      0.07      0.13       307\n",
      "\n",
      "    accuracy                           0.80      1500\n",
      "   macro avg       0.73      0.53      0.51      1500\n",
      "weighted avg       0.78      0.80      0.73      1500\n",
      "\n",
      "confusion matrix:\n",
      " [[1181   12]\n",
      " [ 284   23]]\n"
     ]
    },
    {
     "name": "stderr",
     "output_type": "stream",
     "text": [
      "C:\\Users\\RPC\\AppData\\Local\\Packages\\PythonSoftwareFoundation.Python.3.11_qbz5n2kfra8p0\\LocalCache\\local-packages\\Python311\\site-packages\\sklearn\\linear_model\\_logistic.py:465: ConvergenceWarning: lbfgs failed to converge (status=1):\n",
      "STOP: TOTAL NO. OF ITERATIONS REACHED LIMIT.\n",
      "\n",
      "Increase the number of iterations (max_iter) or scale the data as shown in:\n",
      "    https://scikit-learn.org/stable/modules/preprocessing.html\n",
      "Please also refer to the documentation for alternative solver options:\n",
      "    https://scikit-learn.org/stable/modules/linear_model.html#logistic-regression\n",
      "  n_iter_i = _check_optimize_result(\n"
     ]
    }
   ],
   "source": [
    "y_pred_ls = predict_with_threshold(models[0], x_train, y_train, x_test, threshold=0.6)    \n",
    "print(\"Classification Report:\\n\", classification_report(y_test, y_pred_ls))\n",
    "print('confusion matrix:\\n' , confusion_matrix(y_test, y_pred_ls))"
   ]
  },
  {
   "cell_type": "markdown",
   "id": "75b7164b",
   "metadata": {},
   "source": [
    "----------------------------"
   ]
  },
  {
   "cell_type": "code",
   "execution_count": 182,
   "id": "f52a4551",
   "metadata": {},
   "outputs": [
    {
     "name": "stdout",
     "output_type": "stream",
     "text": [
      "Model = RandomForestClassifier()\n",
      "ROC-AUC = 0.839\n",
      "Best ROC threshold = 0.310\n",
      "TPR = 0.642, FPR = 0.125\n"
     ]
    },
    {
     "data": {
      "text/plain": [
       "(np.float64(0.31), np.float64(0.8389628970296328))"
      ]
     },
     "execution_count": 182,
     "metadata": {},
     "output_type": "execute_result"
    }
   ],
   "source": [
    "best_threshold_roc(models[3], x_train, y_train, x_test, y_test)"
   ]
  },
  {
   "cell_type": "code",
   "execution_count": 183,
   "id": "cb76207e",
   "metadata": {},
   "outputs": [
    {
     "name": "stdout",
     "output_type": "stream",
     "text": [
      "Classification Report:\n",
      "               precision    recall  f1-score   support\n",
      "\n",
      "           0       0.92      0.79      0.85      1193\n",
      "           1       0.47      0.72      0.57       307\n",
      "\n",
      "    accuracy                           0.78      1500\n",
      "   macro avg       0.69      0.76      0.71      1500\n",
      "weighted avg       0.83      0.78      0.79      1500\n",
      "\n",
      "confusion matrix:\n",
      " [[941 252]\n",
      " [ 85 222]]\n"
     ]
    }
   ],
   "source": [
    "y_pred_rf = predict_with_threshold(models[3],x_train, y_train, x_test, threshold=0.230)\n",
    "print(\"Classification Report:\\n\", classification_report(y_test, y_pred_rf))\n",
    "print('confusion matrix:\\n' , confusion_matrix(y_test, y_pred_rf))"
   ]
  },
  {
   "cell_type": "markdown",
   "id": "46626ac4",
   "metadata": {},
   "source": [
    "-----------------------"
   ]
  },
  {
   "cell_type": "code",
   "execution_count": 184,
   "id": "dea20852",
   "metadata": {},
   "outputs": [
    {
     "name": "stdout",
     "output_type": "stream",
     "text": [
      "Model = KNeighborsClassifier()\n",
      "ROC-AUC = 0.735\n",
      "Best ROC threshold = 0.200\n",
      "TPR = 0.788, FPR = 0.433\n"
     ]
    },
    {
     "data": {
      "text/plain": [
       "(np.float64(0.2), np.float64(0.7348171063014164))"
      ]
     },
     "execution_count": 184,
     "metadata": {},
     "output_type": "execute_result"
    }
   ],
   "source": [
    "best_threshold_roc(models[5], x_train, y_train, x_test, y_test)"
   ]
  },
  {
   "cell_type": "code",
   "execution_count": 185,
   "id": "2c94c844",
   "metadata": {},
   "outputs": [
    {
     "name": "stdout",
     "output_type": "stream",
     "text": [
      "Classification Report:\n",
      "               precision    recall  f1-score   support\n",
      "\n",
      "           0       0.91      0.57      0.70      1193\n",
      "           1       0.32      0.79      0.45       307\n",
      "\n",
      "    accuracy                           0.61      1500\n",
      "   macro avg       0.62      0.68      0.58      1500\n",
      "weighted avg       0.79      0.61      0.65      1500\n",
      "\n",
      "confusion matrix:\n",
      " [[677 516]\n",
      " [ 65 242]]\n"
     ]
    }
   ],
   "source": [
    "y_pred_knc = predict_with_threshold(models[5], x_train, y_train, x_test, threshold=0.20)\n",
    "print(\"Classification Report:\\n\", classification_report(y_test, y_pred_knc))\n",
    "print('confusion matrix:\\n' , confusion_matrix(y_test, y_pred_knc))"
   ]
  },
  {
   "cell_type": "markdown",
   "id": "9693784a",
   "metadata": {},
   "source": [
    "--------------------------"
   ]
  },
  {
   "cell_type": "code",
   "execution_count": 186,
   "id": "7107c3db",
   "metadata": {},
   "outputs": [
    {
     "name": "stdout",
     "output_type": "stream",
     "text": [
      "Model = XGBClassifier(base_score=None, booster=None, callbacks=None,\n",
      "              colsample_bylevel=None, colsample_bynode=None,\n",
      "              colsample_bytree=1.0, device=None, early_stopping_rounds=None,\n",
      "              enable_categorical=False, eval_metric=None, feature_types=None,\n",
      "              feature_weights=None, gamma=0, grow_policy=None,\n",
      "              importance_type=None, interaction_constraints=None,\n",
      "              learning_rate=0.1, max_bin=None, max_cat_threshold=None,\n",
      "              max_cat_to_onehot=None, max_delta_step=None, max_depth=3,\n",
      "              max_leaves=None, min_child_weight=1, missing=nan,\n",
      "              monotone_constraints=None, multi_strategy=None, n_estimators=100,\n",
      "              n_jobs=None, num_parallel_tree=None, ...)\n",
      "ROC-AUC = 0.856\n",
      "Best ROC threshold = 0.398\n",
      "TPR = 0.821, FPR = 0.287\n"
     ]
    },
    {
     "data": {
      "text/plain": [
       "(np.float32(0.39780703), np.float64(0.8557300867437904))"
      ]
     },
     "execution_count": 186,
     "metadata": {},
     "output_type": "execute_result"
    }
   ],
   "source": [
    "best_threshold_roc(models[6],x_train, y_train, x_test, y_test)"
   ]
  },
  {
   "cell_type": "code",
   "execution_count": 187,
   "id": "5a93d531",
   "metadata": {},
   "outputs": [
    {
     "name": "stdout",
     "output_type": "stream",
     "text": [
      "Classification Report:\n",
      "               precision    recall  f1-score   support\n",
      "\n",
      "           0       0.91      0.57      0.70      1193\n",
      "           1       0.32      0.79      0.45       307\n",
      "\n",
      "    accuracy                           0.61      1500\n",
      "   macro avg       0.62      0.68      0.58      1500\n",
      "weighted avg       0.79      0.61      0.65      1500\n",
      "\n",
      "confusion matrix:\n",
      " [[677 516]\n",
      " [ 65 242]]\n"
     ]
    }
   ],
   "source": [
    "y_pred_xgb = predict_with_threshold(models[6], x_train, y_train, x_test, threshold=0.398)\n",
    "print(\"Classification Report:\\n\", classification_report(y_test, y_pred_knc))\n",
    "print('confusion matrix:\\n' , confusion_matrix(y_test, y_pred_knc))"
   ]
  },
  {
   "cell_type": "markdown",
   "id": "61f69c17",
   "metadata": {},
   "source": [
    "-------------------------------"
   ]
  },
  {
   "cell_type": "code",
   "execution_count": 188,
   "id": "c097a984",
   "metadata": {},
   "outputs": [
    {
     "name": "stdout",
     "output_type": "stream",
     "text": [
      "[LightGBM] [Warning] Found whitespace in feature_names, replace with underlines\n",
      "[LightGBM] [Info] Number of positive: 1730, number of negative: 6770\n",
      "[LightGBM] [Info] Auto-choosing col-wise multi-threading, the overhead of testing was 0.004444 seconds.\n",
      "You can set `force_col_wise=true` to remove the overhead.\n",
      "[LightGBM] [Info] Total Bins 1125\n",
      "[LightGBM] [Info] Number of data points in the train set: 8500, number of used features: 15\n",
      "[LightGBM] [Info] [binary:BoostFromScore]: pavg=0.203529 -> initscore=-1.364380\n",
      "[LightGBM] [Info] Start training from score -1.364380\n",
      "Model = LGBMClassifier(colsample_bytree=0.8, learning_rate=0.05, n_estimators=500,\n",
      "               random_state=42, subsample=0.8)\n",
      "ROC-AUC = 0.845\n",
      "Best ROC threshold = 0.215\n",
      "TPR = 0.691, FPR = 0.158\n"
     ]
    },
    {
     "data": {
      "text/plain": [
       "(np.float64(0.21527418087887742), np.float64(0.8449888191431558))"
      ]
     },
     "execution_count": 188,
     "metadata": {},
     "output_type": "execute_result"
    }
   ],
   "source": [
    "best_threshold_roc(models[7], x_train, y_train, x_test, y_test)"
   ]
  },
  {
   "cell_type": "code",
   "execution_count": 189,
   "id": "26c2fd35",
   "metadata": {},
   "outputs": [
    {
     "name": "stdout",
     "output_type": "stream",
     "text": [
      "[LightGBM] [Warning] Found whitespace in feature_names, replace with underlines\n",
      "[LightGBM] [Info] Number of positive: 1730, number of negative: 6770\n",
      "[LightGBM] [Info] Auto-choosing row-wise multi-threading, the overhead of testing was 0.002262 seconds.\n",
      "You can set `force_row_wise=true` to remove the overhead.\n",
      "And if memory is not enough, you can set `force_col_wise=true`.\n",
      "[LightGBM] [Info] Total Bins 1125\n",
      "[LightGBM] [Info] Number of data points in the train set: 8500, number of used features: 15\n",
      "[LightGBM] [Info] [binary:BoostFromScore]: pavg=0.203529 -> initscore=-1.364380\n",
      "[LightGBM] [Info] Start training from score -1.364380\n",
      "Classification Report:\n",
      "               precision    recall  f1-score   support\n",
      "\n",
      "           0       0.91      0.84      0.88      1193\n",
      "           1       0.53      0.69      0.60       307\n",
      "\n",
      "    accuracy                           0.81      1500\n",
      "   macro avg       0.72      0.77      0.74      1500\n",
      "weighted avg       0.84      0.81      0.82      1500\n",
      "\n",
      "confusion matrix:\n",
      " [[1005  188]\n",
      " [  95  212]]\n"
     ]
    }
   ],
   "source": [
    "y_pred_knc = predict_with_threshold(models[7], x_train, y_train, x_test, threshold=0.215)\n",
    "print(\"Classification Report:\\n\", classification_report(y_test, y_pred_knc))\n",
    "print('confusion matrix:\\n' , confusion_matrix(y_test, y_pred_knc))"
   ]
  },
  {
   "cell_type": "markdown",
   "id": "5773b53f",
   "metadata": {},
   "source": [
    "--------------------------------"
   ]
  },
  {
   "cell_type": "code",
   "execution_count": null,
   "id": "0f169602",
   "metadata": {},
   "outputs": [],
   "source": [
    "# saving model\n",
    "# with open('LGBMClassifier_model.pkl' , 'wb') as f :\n",
    "#     dump(models[7], f)"
   ]
  },
  {
   "cell_type": "markdown",
   "id": "e184ab9e",
   "metadata": {},
   "source": [
    "---------------------------"
   ]
  },
  {
   "cell_type": "markdown",
   "id": "aa0ef1dc",
   "metadata": {},
   "source": [
    "\n",
    "# <center><strong>Conclusion</strong></center>\n",
    "--------------------------------------------\n",
    "#### **This project on Bank Customer Churn allowed us to explore the data and identify the most influential factors affecting customer decisions, such as tenure, contract type, income level, and the use of additional services. Machine learning models were built to predict the likelihood of churn, providing accurate insights that help management identify at-risk customers and take proactive measures to retain them. This highlights the practical value of data analysis and artificial intelligence in supporting business decisions, strengthening customer loyalty, and ensuring sustainable growth for the financial institution.**"
   ]
  },
  {
   "cell_type": "markdown",
   "id": "e7138a5d",
   "metadata": {},
   "source": [
    "---------------------------------------"
   ]
  },
  {
   "cell_type": "code",
   "execution_count": null,
   "id": "9a6b9d24",
   "metadata": {},
   "outputs": [
    {
     "name": "stderr",
     "output_type": "stream",
     "text": [
      "[NbConvertApp] Converting notebook Bank Customer Churn BClassification.ipynb to html\n",
      "[NbConvertApp] WARNING | Alternative text is missing on 10 image(s).\n",
      "[NbConvertApp] Writing 763470 bytes to Bank Customer Churn BClassification.html\n"
     ]
    }
   ],
   "source": [
    "# !jupyter nbconvert --to html \"Bank Customer Churn BClassification.ipynb\""
   ]
  }
 ],
 "metadata": {
  "colab": {
   "provenance": []
  },
  "kernelspec": {
   "display_name": "Python 3",
   "language": "python",
   "name": "python3"
  },
  "language_info": {
   "codemirror_mode": {
    "name": "ipython",
    "version": 3
   },
   "file_extension": ".py",
   "mimetype": "text/x-python",
   "name": "python",
   "nbconvert_exporter": "python",
   "pygments_lexer": "ipython3",
   "version": "3.11.9"
  }
 },
 "nbformat": 4,
 "nbformat_minor": 5
}
