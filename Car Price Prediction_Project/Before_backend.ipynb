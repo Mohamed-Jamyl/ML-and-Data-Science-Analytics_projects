{
 "cells": [
  {
   "cell_type": "code",
   "execution_count": 2,
   "id": "917e9e80-6e69-4f42-9af1-ce3ce63addf2",
   "metadata": {},
   "outputs": [],
   "source": [
    "from pandas import DataFrame, concat\n",
    "from pickle import load\n",
    "from datetime import datetime \n",
    "from numpy import append"
   ]
  },
  {
   "cell_type": "code",
   "execution_count": null,
   "id": "f656edc9",
   "metadata": {},
   "outputs": [],
   "source": [
    "{\n",
    "    \"Levy\":1399,\n",
    "    \"Manufacturer\":\"LEXUS\",\n",
    "    \"Model\":\"RX 450\",\n",
    "    \"Prod_year\":2010,\n",
    "    \"Category\": \"jeep\", \n",
    "    \"Leather_interior\": \"Yes\",\n",
    "    \"Fuel_type\": \"Hybrid\", \n",
    "    \"Engine_volume\": 3.5, \n",
    "    \"Mileage\": 186005,\n",
    "    \"Cylinders\": 6.0, \n",
    "    \"Gear_box_type\": \"Automatic\", \n",
    "    \"Drive_wheels\": \"4×4\",  \n",
    "    \"Wheel\": \"Left wheel\", \n",
    "    \"Color\": \"Silver\",\n",
    "    \"Airbags\": 12\n",
    "}"
   ]
  },
  {
   "cell_type": "code",
   "execution_count": 176,
   "id": "2146ae71-64fb-4f2b-bf74-8e142364847a",
   "metadata": {},
   "outputs": [],
   "source": [
    "car_dict={\n",
    "    'Levy':1399,\n",
    "    'Manufacturer':'LEXUS',\n",
    "    'Model':'RX 450',\n",
    "    'Prod_year':2010,\n",
    "    'Category': 'jeep', \n",
    "    'Leather_interior': 'Yes',\n",
    "    'Fuel_type': 'Hybrid', \n",
    "    'Engine_volume': 3.5, \n",
    "    'Mileage': 186005,\n",
    "    'Cylinders': 6.0, \n",
    "    'Gear_box_type': 'Automatic', \n",
    "    'Drive_wheels': '4×4',  \n",
    "    'Wheel': 'Left wheel', \n",
    "    'Color': 'Silver',\n",
    "    'Airbags': 12\n",
    "}"
   ]
  },
  {
   "cell_type": "markdown",
   "id": "4e40281f-ca59-4cf5-bb5b-73f305891eb3",
   "metadata": {},
   "source": [
    "# Plan for model input\n",
    "\n",
    "### Input Handling\n",
    "\n",
    "- **Levy** : input as a number, if not provided use **0** as default value\n",
    "- **Engine Volume**  : numerical input\n",
    "- **Mileage** : numerical value\n",
    "\n",
    "### Feature Extraction\n",
    "- Generate a new feature **Age_Of_Car** from Prod_year\n",
    "\n",
    "### Feature Removal \n",
    "- Remove Features : **ID**, **Doors**lor : 16"
   ]
  },
  {
   "cell_type": "markdown",
   "id": "16653f51-6e51-4241-b11e-dd97d9922809",
   "metadata": {},
   "source": [
    "### Categorical Encoding\n",
    "- **df_object** : { 'Manufacturer', 'Model',\n",
    "  'Category', 'Leather interior',\n",
    "  'Fuel type', 'Gear box type',\n",
    "  'Drive wheels', 'Wheel', 'Color' }"
   ]
  },
  {
   "cell_type": "markdown",
   "id": "32de7c24-5f8f-4a83-b526-597f11cb0c22",
   "metadata": {},
   "source": [
    "### Feature Scaling\n",
    "- **Levy**\n",
    "- **Engine Volume**\n",
    "- **Mileage**\n",
    "- **Age_Of_Car**"
   ]
  },
  {
   "cell_type": "markdown",
   "id": "3ca70942-937d-48ed-967f-25accf879cc9",
   "metadata": {},
   "source": [
    "-------------------------------"
   ]
  },
  {
   "cell_type": "code",
   "execution_count": null,
   "id": "b88d3600-5198-429e-ab8f-356c5098fd53",
   "metadata": {},
   "outputs": [
    {
     "data": {
      "text/html": [
       "<div>\n",
       "<style scoped>\n",
       "    .dataframe tbody tr th:only-of-type {\n",
       "        vertical-align: middle;\n",
       "    }\n",
       "\n",
       "    .dataframe tbody tr th {\n",
       "        vertical-align: top;\n",
       "    }\n",
       "\n",
       "    .dataframe thead th {\n",
       "        text-align: right;\n",
       "    }\n",
       "</style>\n",
       "<table border=\"1\" class=\"dataframe\">\n",
       "  <thead>\n",
       "    <tr style=\"text-align: right;\">\n",
       "      <th></th>\n",
       "      <th>Levy</th>\n",
       "      <th>Manufacturer</th>\n",
       "      <th>Model</th>\n",
       "      <th>Prod_year</th>\n",
       "      <th>Category</th>\n",
       "      <th>Leather_interior</th>\n",
       "      <th>Fuel_type</th>\n",
       "      <th>Engine_volume</th>\n",
       "      <th>Mileage</th>\n",
       "      <th>Cylinders</th>\n",
       "      <th>Gear_box_type</th>\n",
       "      <th>Drive_wheels</th>\n",
       "      <th>Wheel</th>\n",
       "      <th>Color</th>\n",
       "      <th>Airbags</th>\n",
       "    </tr>\n",
       "  </thead>\n",
       "  <tbody>\n",
       "    <tr>\n",
       "      <th>0</th>\n",
       "      <td>1399</td>\n",
       "      <td>LEXUS</td>\n",
       "      <td>RX 450</td>\n",
       "      <td>2010</td>\n",
       "      <td>jeep</td>\n",
       "      <td>Yes</td>\n",
       "      <td>Hybrid</td>\n",
       "      <td>3.5</td>\n",
       "      <td>186005</td>\n",
       "      <td>6.0</td>\n",
       "      <td>Automatic</td>\n",
       "      <td>4×4</td>\n",
       "      <td>Left wheel</td>\n",
       "      <td>Silver</td>\n",
       "      <td>12</td>\n",
       "    </tr>\n",
       "  </tbody>\n",
       "</table>\n",
       "</div>"
      ],
      "text/plain": [
       "   Levy Manufacturer   Model  Prod_year Category Leather_interior Fuel_type  \\\n",
       "0  1399        LEXUS  RX 450       2010     jeep              Yes    Hybrid   \n",
       "\n",
       "   Engine_volume  Mileage  Cylinders Gear_box_type Drive_wheels       Wheel  \\\n",
       "0            3.5   186005        6.0     Automatic          4×4  Left wheel   \n",
       "\n",
       "    Color  Airbags  \n",
       "0  Silver       12  "
      ]
     },
     "execution_count": 181,
     "metadata": {},
     "output_type": "execute_result"
    }
   ],
   "source": [
    "# Transform dict to DataFrame and add Age_of_car \n",
    "df2 = DataFrame([car_dict]) \n",
    "df2"
   ]
  },
  {
   "cell_type": "code",
   "execution_count": null,
   "id": "8131e144-8fde-4464-8dd9-246484fecda2",
   "metadata": {},
   "outputs": [],
   "source": [
    "df2['Age_of_Car'] = datetime.now().year - df2['Prod_year']\n",
    "# df2 = df2.drop('Prod_year',axis=1)"
   ]
  },
  {
   "cell_type": "code",
   "execution_count": 183,
   "id": "51f19ca0-b6b3-45bb-b0a2-e664cdb8856f",
   "metadata": {},
   "outputs": [
    {
     "data": {
      "text/html": [
       "<div>\n",
       "<style scoped>\n",
       "    .dataframe tbody tr th:only-of-type {\n",
       "        vertical-align: middle;\n",
       "    }\n",
       "\n",
       "    .dataframe tbody tr th {\n",
       "        vertical-align: top;\n",
       "    }\n",
       "\n",
       "    .dataframe thead th {\n",
       "        text-align: right;\n",
       "    }\n",
       "</style>\n",
       "<table border=\"1\" class=\"dataframe\">\n",
       "  <thead>\n",
       "    <tr style=\"text-align: right;\">\n",
       "      <th></th>\n",
       "      <th>Levy</th>\n",
       "      <th>Manufacturer</th>\n",
       "      <th>Model</th>\n",
       "      <th>Prod_year</th>\n",
       "      <th>Category</th>\n",
       "      <th>Leather_interior</th>\n",
       "      <th>Fuel_type</th>\n",
       "      <th>Engine_volume</th>\n",
       "      <th>Mileage</th>\n",
       "      <th>Cylinders</th>\n",
       "      <th>Gear_box_type</th>\n",
       "      <th>Drive_wheels</th>\n",
       "      <th>Wheel</th>\n",
       "      <th>Color</th>\n",
       "      <th>Airbags</th>\n",
       "      <th>Age_of_Car</th>\n",
       "    </tr>\n",
       "  </thead>\n",
       "  <tbody>\n",
       "    <tr>\n",
       "      <th>0</th>\n",
       "      <td>1399</td>\n",
       "      <td>LEXUS</td>\n",
       "      <td>RX 450</td>\n",
       "      <td>2010</td>\n",
       "      <td>jeep</td>\n",
       "      <td>Yes</td>\n",
       "      <td>Hybrid</td>\n",
       "      <td>3.5</td>\n",
       "      <td>186005</td>\n",
       "      <td>6.0</td>\n",
       "      <td>Automatic</td>\n",
       "      <td>4×4</td>\n",
       "      <td>Left wheel</td>\n",
       "      <td>Silver</td>\n",
       "      <td>12</td>\n",
       "      <td>15</td>\n",
       "    </tr>\n",
       "  </tbody>\n",
       "</table>\n",
       "</div>"
      ],
      "text/plain": [
       "   Levy Manufacturer   Model  Prod_year Category Leather_interior Fuel_type  \\\n",
       "0  1399        LEXUS  RX 450       2010     jeep              Yes    Hybrid   \n",
       "\n",
       "   Engine_volume  Mileage  Cylinders Gear_box_type Drive_wheels       Wheel  \\\n",
       "0            3.5   186005        6.0     Automatic          4×4  Left wheel   \n",
       "\n",
       "    Color  Airbags  Age_of_Car  \n",
       "0  Silver       12          15  "
      ]
     },
     "execution_count": 183,
     "metadata": {},
     "output_type": "execute_result"
    }
   ],
   "source": [
    "df2"
   ]
  },
  {
   "cell_type": "code",
   "execution_count": null,
   "id": "36a0abf5-befa-4129-bc9e-ca6c96da0b5f",
   "metadata": {},
   "outputs": [],
   "source": [
    "# label_encoder_columns = ['Manufacturer', 'Model', 'Category', 'Leather interior', \n",
    "#                           'Fuel type', 'Gear box type', 'Drive wheels', 'Wheel', 'Color' ]\n",
    "\n",
    "# with open('label_encoders.pkl', 'rb') as f:\n",
    "#     label_encoders = pickle.load(f)  \n",
    "    \n",
    "# for col in label_encoder_columns:\n",
    "#     label = label_encoders[col]\n",
    "#     df2[col] = label.transform(df2[col])"
   ]
  },
  {
   "cell_type": "code",
   "execution_count": null,
   "id": "fb457c1b-066f-48ed-909e-d789b29bae03",
   "metadata": {},
   "outputs": [],
   "source": [
    "# Label Encoding\n",
    "\n",
    "label_encoder_columns = ['Manufacturer', 'Model', 'Category', \n",
    "                         'Fuel_type', 'Color','Leather_interior','Wheel']\n",
    "\n",
    "with open('label_encoders.pkl', 'rb') as f:\n",
    "    label_encoders = load(f)\n",
    "\n",
    "for col in label_encoder_columns:\n",
    "    if col in label_encoders:  \n",
    "        label = label_encoders[col]\n",
    "        \n",
    "        unseen_values = set(df2[col]) - set(label.classes_)\n",
    "        if unseen_values:\n",
    "            label.classes_ = append(label.classes_, list(unseen_values))  \n",
    "\n",
    "        df2[col] = label.transform(df2[col])\n",
    "    else:\n",
    "        print(f\"Warning: No encoder found for column {col}\")"
   ]
  },
  {
   "cell_type": "code",
   "execution_count": 186,
   "id": "b0204aad-482e-41db-a10d-b56245ca4258",
   "metadata": {},
   "outputs": [
    {
     "data": {
      "text/html": [
       "<div>\n",
       "<style scoped>\n",
       "    .dataframe tbody tr th:only-of-type {\n",
       "        vertical-align: middle;\n",
       "    }\n",
       "\n",
       "    .dataframe tbody tr th {\n",
       "        vertical-align: top;\n",
       "    }\n",
       "\n",
       "    .dataframe thead th {\n",
       "        text-align: right;\n",
       "    }\n",
       "</style>\n",
       "<table border=\"1\" class=\"dataframe\">\n",
       "  <thead>\n",
       "    <tr style=\"text-align: right;\">\n",
       "      <th></th>\n",
       "      <th>Levy</th>\n",
       "      <th>Manufacturer</th>\n",
       "      <th>Model</th>\n",
       "      <th>Prod_year</th>\n",
       "      <th>Category</th>\n",
       "      <th>Leather_interior</th>\n",
       "      <th>Fuel_type</th>\n",
       "      <th>Engine_volume</th>\n",
       "      <th>Mileage</th>\n",
       "      <th>Cylinders</th>\n",
       "      <th>Gear_box_type</th>\n",
       "      <th>Drive_wheels</th>\n",
       "      <th>Wheel</th>\n",
       "      <th>Color</th>\n",
       "      <th>Airbags</th>\n",
       "      <th>Age_of_Car</th>\n",
       "    </tr>\n",
       "  </thead>\n",
       "  <tbody>\n",
       "    <tr>\n",
       "      <th>0</th>\n",
       "      <td>1399</td>\n",
       "      <td>25</td>\n",
       "      <td>953</td>\n",
       "      <td>2010</td>\n",
       "      <td>11</td>\n",
       "      <td>1</td>\n",
       "      <td>2</td>\n",
       "      <td>3.5</td>\n",
       "      <td>186005</td>\n",
       "      <td>6.0</td>\n",
       "      <td>Automatic</td>\n",
       "      <td>4×4</td>\n",
       "      <td>0</td>\n",
       "      <td>12</td>\n",
       "      <td>12</td>\n",
       "      <td>15</td>\n",
       "    </tr>\n",
       "  </tbody>\n",
       "</table>\n",
       "</div>"
      ],
      "text/plain": [
       "   Levy  Manufacturer  Model  Prod_year  Category  Leather_interior  \\\n",
       "0  1399            25    953       2010        11                 1   \n",
       "\n",
       "   Fuel_type  Engine_volume  Mileage  Cylinders Gear_box_type Drive_wheels  \\\n",
       "0          2            3.5   186005        6.0     Automatic          4×4   \n",
       "\n",
       "   Wheel  Color  Airbags  Age_of_Car  \n",
       "0      0     12       12          15  "
      ]
     },
     "execution_count": 186,
     "metadata": {},
     "output_type": "execute_result"
    }
   ],
   "source": [
    "df2"
   ]
  },
  {
   "cell_type": "code",
   "execution_count": 187,
   "id": "07aa6a8b-a9d7-4f67-964e-24b31d7990f9",
   "metadata": {},
   "outputs": [
    {
     "name": "stdout",
     "output_type": "stream",
     "text": [
      "{'Beige': 0, 'Black': 1, 'Blue': 2, 'Brown': 3, 'Carnelian red': 4, 'Golden': 5, 'Green': 6, 'Grey': 7, 'Orange': 8, 'Pink': 9, 'Purple': 10, 'Red': 11, 'Silver': 12, 'Sky blue': 13, 'White': 14, 'Yellow': 15}\n"
     ]
    }
   ],
   "source": [
    "mapping = {category : index for index, category in enumerate(label_encoders['Color'].classes_)}\n",
    "print(mapping)"
   ]
  },
  {
   "cell_type": "code",
   "execution_count": null,
   "id": "5b3eea87-fd26-431a-aa24-604796f3e2e8",
   "metadata": {},
   "outputs": [],
   "source": [
    "# Feature Scaling\n",
    "Scaling_feature = ['Levy', 'Engine_volume','Mileage', 'Age_of_Car']\n",
    "with open ('scaler.pkl', 'rb') as file : \n",
    "    scaler = load(file)\n",
    "df2[Scaling_feature] = scaler.transform(df2[Scaling_feature])"
   ]
  },
  {
   "cell_type": "markdown",
   "id": "ee643c49-7c7f-4efb-b349-f92017a3e701",
   "metadata": {},
   "source": [
    "--------------------------------"
   ]
  },
  {
   "cell_type": "code",
   "execution_count": null,
   "id": "a143c3ad-df4d-406f-8380-70233ab7005a",
   "metadata": {},
   "outputs": [],
   "source": [
    "one_hot_columns = ['Gear_box_type','Drive_wheels']\n",
    "\n",
    "with open('One_Hot_Encoder.pkl', 'rb') as f:\n",
    "    One_Hot_Encoder = load(f)"
   ]
  },
  {
   "cell_type": "code",
   "execution_count": 191,
   "id": "9fc929c6-01a2-4fd5-a7ea-d823670db9c5",
   "metadata": {},
   "outputs": [],
   "source": [
    "ohe_encoded_data = One_Hot_Encoder.transform(df2[one_hot_columns])"
   ]
  },
  {
   "cell_type": "code",
   "execution_count": null,
   "id": "58c165ed-6570-49e8-a4bf-75cc70a84919",
   "metadata": {},
   "outputs": [],
   "source": [
    "ohe_encoded_data_df = DataFrame(ohe_encoded_data, columns=One_Hot_Encoder.get_feature_names_out(one_hot_columns), index=df2.index)\n",
    "df3 = concat([df2, ohe_encoded_data_df], axis=1)\n",
    "df3.drop(columns=one_hot_columns, inplace=True)"
   ]
  },
  {
   "cell_type": "markdown",
   "id": "cf1577a1-6dc8-4087-a087-8e62b1b98789",
   "metadata": {},
   "source": [
    "---------------------------------"
   ]
  },
  {
   "cell_type": "code",
   "execution_count": 194,
   "id": "21ce10e3-aea1-4448-a24e-852cc21a4d55",
   "metadata": {},
   "outputs": [
    {
     "data": {
      "text/html": [
       "<div>\n",
       "<style scoped>\n",
       "    .dataframe tbody tr th:only-of-type {\n",
       "        vertical-align: middle;\n",
       "    }\n",
       "\n",
       "    .dataframe tbody tr th {\n",
       "        vertical-align: top;\n",
       "    }\n",
       "\n",
       "    .dataframe thead th {\n",
       "        text-align: right;\n",
       "    }\n",
       "</style>\n",
       "<table border=\"1\" class=\"dataframe\">\n",
       "  <thead>\n",
       "    <tr style=\"text-align: right;\">\n",
       "      <th></th>\n",
       "      <th>Levy</th>\n",
       "      <th>Manufacturer</th>\n",
       "      <th>Model</th>\n",
       "      <th>Prod_year</th>\n",
       "      <th>Category</th>\n",
       "      <th>Leather_interior</th>\n",
       "      <th>Fuel_type</th>\n",
       "      <th>Engine_volume</th>\n",
       "      <th>Mileage</th>\n",
       "      <th>Cylinders</th>\n",
       "      <th>...</th>\n",
       "      <th>Color</th>\n",
       "      <th>Airbags</th>\n",
       "      <th>Age_of_Car</th>\n",
       "      <th>Gear_box_type_Automatic</th>\n",
       "      <th>Gear_box_type_Manual</th>\n",
       "      <th>Gear_box_type_Tiptronic</th>\n",
       "      <th>Gear_box_type_Variator</th>\n",
       "      <th>Drive_wheels_4x4</th>\n",
       "      <th>Drive_wheels_Front</th>\n",
       "      <th>Drive_wheels_Rear</th>\n",
       "    </tr>\n",
       "  </thead>\n",
       "  <tbody>\n",
       "    <tr>\n",
       "      <th>0</th>\n",
       "      <td>3.915291</td>\n",
       "      <td>25</td>\n",
       "      <td>953</td>\n",
       "      <td>2010</td>\n",
       "      <td>11</td>\n",
       "      <td>1</td>\n",
       "      <td>2</td>\n",
       "      <td>4.151722</td>\n",
       "      <td>0.781212</td>\n",
       "      <td>6.0</td>\n",
       "      <td>...</td>\n",
       "      <td>12</td>\n",
       "      <td>12</td>\n",
       "      <td>0.1519</td>\n",
       "      <td>1.0</td>\n",
       "      <td>0.0</td>\n",
       "      <td>0.0</td>\n",
       "      <td>0.0</td>\n",
       "      <td>0.0</td>\n",
       "      <td>0.0</td>\n",
       "      <td>0.0</td>\n",
       "    </tr>\n",
       "  </tbody>\n",
       "</table>\n",
       "<p>1 rows × 21 columns</p>\n",
       "</div>"
      ],
      "text/plain": [
       "       Levy  Manufacturer  Model  Prod_year  Category  Leather_interior  \\\n",
       "0  3.915291            25    953       2010        11                 1   \n",
       "\n",
       "   Fuel_type  Engine_volume   Mileage  Cylinders  ...  Color  Airbags  \\\n",
       "0          2       4.151722  0.781212        6.0  ...     12       12   \n",
       "\n",
       "   Age_of_Car  Gear_box_type_Automatic  Gear_box_type_Manual  \\\n",
       "0      0.1519                      1.0                   0.0   \n",
       "\n",
       "   Gear_box_type_Tiptronic  Gear_box_type_Variator  Drive_wheels_4x4  \\\n",
       "0                      0.0                     0.0               0.0   \n",
       "\n",
       "   Drive_wheels_Front  Drive_wheels_Rear  \n",
       "0                 0.0                0.0  \n",
       "\n",
       "[1 rows x 21 columns]"
      ]
     },
     "execution_count": 194,
     "metadata": {},
     "output_type": "execute_result"
    }
   ],
   "source": [
    "df3.head()"
   ]
  },
  {
   "cell_type": "code",
   "execution_count": 195,
   "id": "afca6808-375b-4b8b-bddd-84bfa2db2feb",
   "metadata": {},
   "outputs": [
    {
     "data": {
      "text/plain": [
       "Index(['Levy', 'Manufacturer', 'Model', 'Prod_year', 'Category',\n",
       "       'Leather_interior', 'Fuel_type', 'Engine_volume', 'Mileage',\n",
       "       'Cylinders', 'Wheel', 'Color', 'Airbags', 'Age_of_Car',\n",
       "       'Gear_box_type_Automatic', 'Gear_box_type_Manual',\n",
       "       'Gear_box_type_Tiptronic', 'Gear_box_type_Variator', 'Drive_wheels_4x4',\n",
       "       'Drive_wheels_Front', 'Drive_wheels_Rear'],\n",
       "      dtype='object')"
      ]
     },
     "execution_count": 195,
     "metadata": {},
     "output_type": "execute_result"
    }
   ],
   "source": [
    "df3.columns"
   ]
  },
  {
   "cell_type": "code",
   "execution_count": 196,
   "id": "66114cea-130a-481a-8286-a83f4e98da92",
   "metadata": {},
   "outputs": [
    {
     "name": "stdout",
     "output_type": "stream",
     "text": [
      "<class 'pandas.core.frame.DataFrame'>\n",
      "RangeIndex: 1 entries, 0 to 0\n",
      "Data columns (total 21 columns):\n",
      " #   Column                   Non-Null Count  Dtype  \n",
      "---  ------                   --------------  -----  \n",
      " 0   Levy                     1 non-null      float64\n",
      " 1   Manufacturer             1 non-null      int32  \n",
      " 2   Model                    1 non-null      int32  \n",
      " 3   Prod_year                1 non-null      int64  \n",
      " 4   Category                 1 non-null      int32  \n",
      " 5   Leather_interior         1 non-null      int32  \n",
      " 6   Fuel_type                1 non-null      int32  \n",
      " 7   Engine_volume            1 non-null      float64\n",
      " 8   Mileage                  1 non-null      float64\n",
      " 9   Cylinders                1 non-null      float64\n",
      " 10  Wheel                    1 non-null      int32  \n",
      " 11  Color                    1 non-null      int32  \n",
      " 12  Airbags                  1 non-null      int64  \n",
      " 13  Age_of_Car               1 non-null      float64\n",
      " 14  Gear_box_type_Automatic  1 non-null      float64\n",
      " 15  Gear_box_type_Manual     1 non-null      float64\n",
      " 16  Gear_box_type_Tiptronic  1 non-null      float64\n",
      " 17  Gear_box_type_Variator   1 non-null      float64\n",
      " 18  Drive_wheels_4x4         1 non-null      float64\n",
      " 19  Drive_wheels_Front       1 non-null      float64\n",
      " 20  Drive_wheels_Rear        1 non-null      float64\n",
      "dtypes: float64(12), int32(7), int64(2)\n",
      "memory usage: 272.0 bytes\n"
     ]
    }
   ],
   "source": [
    "df3.info()"
   ]
  },
  {
   "cell_type": "markdown",
   "id": "7f7ffd41-673d-459a-a909-34005feaaeb4",
   "metadata": {},
   "source": [
    "--------------------------"
   ]
  },
  {
   "cell_type": "code",
   "execution_count": 198,
   "id": "cdec163d-3c3e-4541-b018-a70422f702bb",
   "metadata": {},
   "outputs": [],
   "source": [
    "order_in_fit = ['Levy', 'Prod_year', 'Engine_volume', 'Mileage', 'Cylinders', 'Airbags',\n",
    "       'Age_of_Car', 'Manufacturer', 'Model', 'Category', 'Fuel_type', 'Color',\n",
    "       'Leather_interior', 'Wheel', 'Gear_box_type_Automatic',\n",
    "       'Gear_box_type_Manual', 'Gear_box_type_Tiptronic',\n",
    "       'Gear_box_type_Variator', 'Drive_wheels_4x4', 'Drive_wheels_Front',\n",
    "       'Drive_wheels_Rear']\n",
    "\n",
    "df3 = df3[order_in_fit]"
   ]
  },
  {
   "cell_type": "code",
   "execution_count": 199,
   "id": "70dd4ea8-7c2e-40c4-a300-50eef5dce712",
   "metadata": {},
   "outputs": [
    {
     "name": "stdout",
     "output_type": "stream",
     "text": [
      "<class 'pandas.core.frame.DataFrame'>\n",
      "RangeIndex: 1 entries, 0 to 0\n",
      "Data columns (total 21 columns):\n",
      " #   Column                   Non-Null Count  Dtype  \n",
      "---  ------                   --------------  -----  \n",
      " 0   Levy                     1 non-null      float64\n",
      " 1   Prod_year                1 non-null      int64  \n",
      " 2   Engine_volume            1 non-null      float64\n",
      " 3   Mileage                  1 non-null      float64\n",
      " 4   Cylinders                1 non-null      float64\n",
      " 5   Airbags                  1 non-null      int64  \n",
      " 6   Age_of_Car               1 non-null      float64\n",
      " 7   Manufacturer             1 non-null      int32  \n",
      " 8   Model                    1 non-null      int32  \n",
      " 9   Category                 1 non-null      int32  \n",
      " 10  Fuel_type                1 non-null      int32  \n",
      " 11  Color                    1 non-null      int32  \n",
      " 12  Leather_interior         1 non-null      int32  \n",
      " 13  Wheel                    1 non-null      int32  \n",
      " 14  Gear_box_type_Automatic  1 non-null      float64\n",
      " 15  Gear_box_type_Manual     1 non-null      float64\n",
      " 16  Gear_box_type_Tiptronic  1 non-null      float64\n",
      " 17  Gear_box_type_Variator   1 non-null      float64\n",
      " 18  Drive_wheels_4x4         1 non-null      float64\n",
      " 19  Drive_wheels_Front       1 non-null      float64\n",
      " 20  Drive_wheels_Rear        1 non-null      float64\n",
      "dtypes: float64(12), int32(7), int64(2)\n",
      "memory usage: 272.0 bytes\n"
     ]
    }
   ],
   "source": [
    "df3.info()"
   ]
  },
  {
   "cell_type": "code",
   "execution_count": null,
   "id": "56ac2009-5b0a-43ba-b5a1-223f5cee2045",
   "metadata": {},
   "outputs": [],
   "source": [
    "# load model \n",
    "with open('XGBRegressor_model.pkl','rb') as file2 : \n",
    "    XGBRegressor_model = load(file2)"
   ]
  },
  {
   "cell_type": "code",
   "execution_count": 201,
   "id": "fb824988-2c65-4a6a-a360-012eedcbd003",
   "metadata": {},
   "outputs": [
    {
     "data": {
      "text/plain": [
       "array([17426.69], dtype=float32)"
      ]
     },
     "execution_count": 201,
     "metadata": {},
     "output_type": "execute_result"
    }
   ],
   "source": [
    "XGBRegressor_model.predict(df3)   # 13328"
   ]
  }
 ],
 "metadata": {
  "kernelspec": {
   "display_name": "Python 3",
   "language": "python",
   "name": "python3"
  },
  "language_info": {
   "codemirror_mode": {
    "name": "ipython",
    "version": 3
   },
   "file_extension": ".py",
   "mimetype": "text/x-python",
   "name": "python",
   "nbconvert_exporter": "python",
   "pygments_lexer": "ipython3",
   "version": "3.11.9"
  }
 },
 "nbformat": 4,
 "nbformat_minor": 5
}
